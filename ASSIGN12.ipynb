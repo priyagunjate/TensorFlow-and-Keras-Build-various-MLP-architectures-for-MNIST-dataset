{
 "cells": [
  {
   "cell_type": "markdown",
   "metadata": {
    "colab_type": "text",
    "id": "WwdESlpHaBtj"
   },
   "source": [
    "# **Assignment-12: TensorFlow and Keras: Build various MLP architectures for MNIST dataset [M]**\n"
   ]
  },
  {
   "cell_type": "markdown",
   "metadata": {
    "colab_type": "text",
    "id": "qFZAYcgbaBtm"
   },
   "source": [
    "##### Objective:\n",
    "* Model with three different architecture:\n",
    "        \n",
    "        1) 2-Hidden layer architecture (784-472-168-10 architecture)\n",
    "        \n",
    "        2) 3-Hidden layer architecture (784-352-164-124-10 architecture)\n",
    "        \n",
    "        3) 5-Hidden layer architecture (784-216-170-136-80-38-10 architecture)\n",
    "        \n",
    "* Train-Test error plot\n",
    "* Activation='relu'+  Adam Optimizer+Batch_Normalization +Drop_out"
   ]
  },
  {
   "cell_type": "code",
   "execution_count": 1,
   "metadata": {
    "colab": {
     "base_uri": "https://localhost:8080/",
     "height": 35
    },
    "colab_type": "code",
    "executionInfo": {
     "elapsed": 2010,
     "status": "ok",
     "timestamp": 1547721816432,
     "user": {
      "displayName": "Priya G",
      "photoUrl": "https://lh5.googleusercontent.com/-ulFA1q-SBEw/AAAAAAAAAAI/AAAAAAAAAaU/81PbAjtRvqw/s64/photo.jpg",
      "userId": "05458747731883366595"
     },
     "user_tz": -330
    },
    "id": "2UILABPAQKbH",
    "outputId": "2d436f5b-078e-47f5-9c8d-e4a1b84e332f"
   },
   "outputs": [
    {
     "name": "stderr",
     "output_type": "stream",
     "text": [
      "Using TensorFlow backend.\n"
     ]
    }
   ],
   "source": [
    "# if you keras is not using tensorflow as backend set \"KERAS_BACKEND=tensorflow\" use this command\n",
    "from keras.utils import np_utils \n",
    "from keras.datasets import mnist \n",
    "import seaborn as sns\n",
    "from keras.initializers import RandomNormal"
   ]
  },
  {
   "cell_type": "code",
   "execution_count": 2,
   "metadata": {
    "colab": {},
    "colab_type": "code",
    "id": "lOO-TM_7QKbM"
   },
   "outputs": [],
   "source": [
    "%matplotlib inline\n",
    "import matplotlib.pyplot as plt\n",
    "import numpy as np\n",
    "import time\n",
    "# https://gist.github.com/greydanus/f6eee59eaf1d90fcb3b534a25362cea4\n",
    "# https://stackoverflow.com/a/14434334\n",
    "# this function is used to update the plots for each epoch and error\n",
    "def plt_dynamic(x, vy, ty, ax, colors=['b']):\n",
    "    ax.plot(x, vy, 'b', label=\"Validation Loss\")\n",
    "    ax.plot(x, ty, 'r', label=\"Train Loss\")\n",
    "    plt.legend()\n",
    "    plt.grid()\n",
    "    fig.canvas.draw()"
   ]
  },
  {
   "cell_type": "code",
   "execution_count": 3,
   "metadata": {
    "colab": {},
    "colab_type": "code",
    "id": "TKmYKnibQKbQ"
   },
   "outputs": [
    {
     "name": "stdout",
     "output_type": "stream",
     "text": [
      "Downloading data from https://s3.amazonaws.com/img-datasets/mnist.npz\n",
      "11493376/11490434 [==============================] - 1s 0us/step\n"
     ]
    }
   ],
   "source": [
    "# the data, shuffled and split between train and test sets \n",
    "(x_train, y_train), (x_test, y_test) = mnist.load_data()"
   ]
  },
  {
   "cell_type": "code",
   "execution_count": 4,
   "metadata": {
    "colab": {
     "base_uri": "https://localhost:8080/",
     "height": 52
    },
    "colab_type": "code",
    "executionInfo": {
     "elapsed": 2543,
     "status": "ok",
     "timestamp": 1547721817055,
     "user": {
      "displayName": "Priya G",
      "photoUrl": "https://lh5.googleusercontent.com/-ulFA1q-SBEw/AAAAAAAAAAI/AAAAAAAAAaU/81PbAjtRvqw/s64/photo.jpg",
      "userId": "05458747731883366595"
     },
     "user_tz": -330
    },
    "id": "CCwnZae-QKbT",
    "outputId": "0bf3a8c3-0dfb-4301-ff80-858d68f5f7c5"
   },
   "outputs": [
    {
     "name": "stdout",
     "output_type": "stream",
     "text": [
      "Number of training examples : 60000 and each image is of shape (28, 28)\n",
      "Number of training examples : 10000 and each image is of shape (28, 28)\n"
     ]
    }
   ],
   "source": [
    "print(\"Number of training examples :\", x_train.shape[0], \"and each image is of shape (%d, %d)\"%(x_train.shape[1], x_train.shape[2]))\n",
    "print(\"Number of training examples :\", x_test.shape[0], \"and each image is of shape (%d, %d)\"%(x_test.shape[1], x_test.shape[2]))"
   ]
  },
  {
   "cell_type": "code",
   "execution_count": 5,
   "metadata": {
    "colab": {},
    "colab_type": "code",
    "id": "BlotuCmoQKbW"
   },
   "outputs": [],
   "source": [
    "# if you observe the input shape its 3 dimensional vector\n",
    "# for each image we have a (28*28) vector\n",
    "# we will convert the (28*28) vector into single dimensional vector of 1 * 784 \n",
    "\n",
    "x_train = x_train.reshape(x_train.shape[0], x_train.shape[1]*x_train.shape[2]) \n",
    "x_test = x_test.reshape(x_test.shape[0], x_test.shape[1]*x_test.shape[2]) "
   ]
  },
  {
   "cell_type": "code",
   "execution_count": 6,
   "metadata": {
    "colab": {
     "base_uri": "https://localhost:8080/",
     "height": 52
    },
    "colab_type": "code",
    "executionInfo": {
     "elapsed": 2510,
     "status": "ok",
     "timestamp": 1547721817060,
     "user": {
      "displayName": "Priya G",
      "photoUrl": "https://lh5.googleusercontent.com/-ulFA1q-SBEw/AAAAAAAAAAI/AAAAAAAAAaU/81PbAjtRvqw/s64/photo.jpg",
      "userId": "05458747731883366595"
     },
     "user_tz": -330
    },
    "id": "8JvpNJy4QKbY",
    "outputId": "af73cb49-2f5a-4b01-cf41-9913e4729a6d"
   },
   "outputs": [
    {
     "name": "stdout",
     "output_type": "stream",
     "text": [
      "Number of training examples : 60000 and each image is of shape (784)\n",
      "Number of training examples : 10000 and each image is of shape (784)\n"
     ]
    }
   ],
   "source": [
    "# after converting the input images from 3d to 2d vectors\n",
    "\n",
    "print(\"Number of training examples :\", x_train.shape[0], \"and each image is of shape (%d)\"%(x_train.shape[1]))\n",
    "print(\"Number of training examples :\", x_test.shape[0], \"and each image is of shape (%d)\"%(x_test.shape[1]))"
   ]
  },
  {
   "cell_type": "code",
   "execution_count": 7,
   "metadata": {
    "colab": {
     "base_uri": "https://localhost:8080/",
     "height": 780
    },
    "colab_type": "code",
    "executionInfo": {
     "elapsed": 2485,
     "status": "ok",
     "timestamp": 1547721817062,
     "user": {
      "displayName": "Priya G",
      "photoUrl": "https://lh5.googleusercontent.com/-ulFA1q-SBEw/AAAAAAAAAAI/AAAAAAAAAaU/81PbAjtRvqw/s64/photo.jpg",
      "userId": "05458747731883366595"
     },
     "user_tz": -330
    },
    "id": "qvuaHDk0QKbb",
    "outputId": "3908b756-d85b-446d-c908-6bfd990901fd",
    "scrolled": true
   },
   "outputs": [
    {
     "name": "stdout",
     "output_type": "stream",
     "text": [
      "[  0   0   0   0   0   0   0   0   0   0   0   0   0   0   0   0   0   0\n",
      "   0   0   0   0   0   0   0   0   0   0   0   0   0   0   0   0   0   0\n",
      "   0   0   0   0   0   0   0   0   0   0   0   0   0   0   0   0   0   0\n",
      "   0   0   0   0   0   0   0   0   0   0   0   0   0   0   0   0   0   0\n",
      "   0   0   0   0   0   0   0   0   0   0   0   0   0   0   0   0   0   0\n",
      "   0   0   0   0   0   0   0   0   0   0   0   0   0   0   0   0   0   0\n",
      "   0   0   0   0   0   0   0   0   0   0   0   0   0   0   0   0   0   0\n",
      "   0   0   0   0   0   0   0   0   0   0   0   0   0   0   0   0   0   0\n",
      "   0   0   0   0   0   0   0   0   3  18  18  18 126 136 175  26 166 255\n",
      " 247 127   0   0   0   0   0   0   0   0   0   0   0   0  30  36  94 154\n",
      " 170 253 253 253 253 253 225 172 253 242 195  64   0   0   0   0   0   0\n",
      "   0   0   0   0   0  49 238 253 253 253 253 253 253 253 253 251  93  82\n",
      "  82  56  39   0   0   0   0   0   0   0   0   0   0   0   0  18 219 253\n",
      " 253 253 253 253 198 182 247 241   0   0   0   0   0   0   0   0   0   0\n",
      "   0   0   0   0   0   0   0   0  80 156 107 253 253 205  11   0  43 154\n",
      "   0   0   0   0   0   0   0   0   0   0   0   0   0   0   0   0   0   0\n",
      "   0  14   1 154 253  90   0   0   0   0   0   0   0   0   0   0   0   0\n",
      "   0   0   0   0   0   0   0   0   0   0   0   0   0 139 253 190   2   0\n",
      "   0   0   0   0   0   0   0   0   0   0   0   0   0   0   0   0   0   0\n",
      "   0   0   0   0   0  11 190 253  70   0   0   0   0   0   0   0   0   0\n",
      "   0   0   0   0   0   0   0   0   0   0   0   0   0   0   0   0  35 241\n",
      " 225 160 108   1   0   0   0   0   0   0   0   0   0   0   0   0   0   0\n",
      "   0   0   0   0   0   0   0   0   0  81 240 253 253 119  25   0   0   0\n",
      "   0   0   0   0   0   0   0   0   0   0   0   0   0   0   0   0   0   0\n",
      "   0   0  45 186 253 253 150  27   0   0   0   0   0   0   0   0   0   0\n",
      "   0   0   0   0   0   0   0   0   0   0   0   0   0  16  93 252 253 187\n",
      "   0   0   0   0   0   0   0   0   0   0   0   0   0   0   0   0   0   0\n",
      "   0   0   0   0   0   0   0 249 253 249  64   0   0   0   0   0   0   0\n",
      "   0   0   0   0   0   0   0   0   0   0   0   0   0   0  46 130 183 253\n",
      " 253 207   2   0   0   0   0   0   0   0   0   0   0   0   0   0   0   0\n",
      "   0   0   0   0  39 148 229 253 253 253 250 182   0   0   0   0   0   0\n",
      "   0   0   0   0   0   0   0   0   0   0   0   0  24 114 221 253 253 253\n",
      " 253 201  78   0   0   0   0   0   0   0   0   0   0   0   0   0   0   0\n",
      "   0   0  23  66 213 253 253 253 253 198  81   2   0   0   0   0   0   0\n",
      "   0   0   0   0   0   0   0   0   0   0  18 171 219 253 253 253 253 195\n",
      "  80   9   0   0   0   0   0   0   0   0   0   0   0   0   0   0   0   0\n",
      "  55 172 226 253 253 253 253 244 133  11   0   0   0   0   0   0   0   0\n",
      "   0   0   0   0   0   0   0   0   0   0 136 253 253 253 212 135 132  16\n",
      "   0   0   0   0   0   0   0   0   0   0   0   0   0   0   0   0   0   0\n",
      "   0   0   0   0   0   0   0   0   0   0   0   0   0   0   0   0   0   0\n",
      "   0   0   0   0   0   0   0   0   0   0   0   0   0   0   0   0   0   0\n",
      "   0   0   0   0   0   0   0   0   0   0   0   0   0   0   0   0   0   0\n",
      "   0   0   0   0   0   0   0   0   0   0   0   0   0   0   0   0   0   0\n",
      "   0   0   0   0   0   0   0   0   0   0]\n"
     ]
    }
   ],
   "source": [
    "# An example data point\n",
    "print(x_train[0])"
   ]
  },
  {
   "cell_type": "code",
   "execution_count": 8,
   "metadata": {
    "colab": {},
    "colab_type": "code",
    "id": "lfohtdKPQKbd"
   },
   "outputs": [],
   "source": [
    "# if we observe the above matrix each cell is having a value between 0-255\n",
    "# before we move to apply machine learning algorithms lets try to normalize the data\n",
    "# X => (X - Xmin)/(Xmax-Xmin) = X/255\n",
    "\n",
    "x_train = x_train/255\n",
    "x_test = x_test/255"
   ]
  },
  {
   "cell_type": "code",
   "execution_count": 9,
   "metadata": {
    "colab": {
     "base_uri": "https://localhost:8080/",
     "height": 2288
    },
    "colab_type": "code",
    "executionInfo": {
     "elapsed": 2845,
     "status": "ok",
     "timestamp": 1547721817448,
     "user": {
      "displayName": "Priya G",
      "photoUrl": "https://lh5.googleusercontent.com/-ulFA1q-SBEw/AAAAAAAAAAI/AAAAAAAAAaU/81PbAjtRvqw/s64/photo.jpg",
      "userId": "05458747731883366595"
     },
     "user_tz": -330
    },
    "id": "4C-dmsXJQKbf",
    "outputId": "5106ab1f-7c5a-44d7-8890-4f199c254d97"
   },
   "outputs": [
    {
     "name": "stdout",
     "output_type": "stream",
     "text": [
      "[0.         0.         0.         0.         0.         0.\n",
      " 0.         0.         0.         0.         0.         0.\n",
      " 0.         0.         0.         0.         0.         0.\n",
      " 0.         0.         0.         0.         0.         0.\n",
      " 0.         0.         0.         0.         0.         0.\n",
      " 0.         0.         0.         0.         0.         0.\n",
      " 0.         0.         0.         0.         0.         0.\n",
      " 0.         0.         0.         0.         0.         0.\n",
      " 0.         0.         0.         0.         0.         0.\n",
      " 0.         0.         0.         0.         0.         0.\n",
      " 0.         0.         0.         0.         0.         0.\n",
      " 0.         0.         0.         0.         0.         0.\n",
      " 0.         0.         0.         0.         0.         0.\n",
      " 0.         0.         0.         0.         0.         0.\n",
      " 0.         0.         0.         0.         0.         0.\n",
      " 0.         0.         0.         0.         0.         0.\n",
      " 0.         0.         0.         0.         0.         0.\n",
      " 0.         0.         0.         0.         0.         0.\n",
      " 0.         0.         0.         0.         0.         0.\n",
      " 0.         0.         0.         0.         0.         0.\n",
      " 0.         0.         0.         0.         0.         0.\n",
      " 0.         0.         0.         0.         0.         0.\n",
      " 0.         0.         0.         0.         0.         0.\n",
      " 0.         0.         0.         0.         0.         0.\n",
      " 0.         0.         0.         0.         0.         0.\n",
      " 0.         0.         0.01176471 0.07058824 0.07058824 0.07058824\n",
      " 0.49411765 0.53333333 0.68627451 0.10196078 0.65098039 1.\n",
      " 0.96862745 0.49803922 0.         0.         0.         0.\n",
      " 0.         0.         0.         0.         0.         0.\n",
      " 0.         0.         0.11764706 0.14117647 0.36862745 0.60392157\n",
      " 0.66666667 0.99215686 0.99215686 0.99215686 0.99215686 0.99215686\n",
      " 0.88235294 0.6745098  0.99215686 0.94901961 0.76470588 0.25098039\n",
      " 0.         0.         0.         0.         0.         0.\n",
      " 0.         0.         0.         0.         0.         0.19215686\n",
      " 0.93333333 0.99215686 0.99215686 0.99215686 0.99215686 0.99215686\n",
      " 0.99215686 0.99215686 0.99215686 0.98431373 0.36470588 0.32156863\n",
      " 0.32156863 0.21960784 0.15294118 0.         0.         0.\n",
      " 0.         0.         0.         0.         0.         0.\n",
      " 0.         0.         0.         0.07058824 0.85882353 0.99215686\n",
      " 0.99215686 0.99215686 0.99215686 0.99215686 0.77647059 0.71372549\n",
      " 0.96862745 0.94509804 0.         0.         0.         0.\n",
      " 0.         0.         0.         0.         0.         0.\n",
      " 0.         0.         0.         0.         0.         0.\n",
      " 0.         0.         0.31372549 0.61176471 0.41960784 0.99215686\n",
      " 0.99215686 0.80392157 0.04313725 0.         0.16862745 0.60392157\n",
      " 0.         0.         0.         0.         0.         0.\n",
      " 0.         0.         0.         0.         0.         0.\n",
      " 0.         0.         0.         0.         0.         0.\n",
      " 0.         0.05490196 0.00392157 0.60392157 0.99215686 0.35294118\n",
      " 0.         0.         0.         0.         0.         0.\n",
      " 0.         0.         0.         0.         0.         0.\n",
      " 0.         0.         0.         0.         0.         0.\n",
      " 0.         0.         0.         0.         0.         0.\n",
      " 0.         0.54509804 0.99215686 0.74509804 0.00784314 0.\n",
      " 0.         0.         0.         0.         0.         0.\n",
      " 0.         0.         0.         0.         0.         0.\n",
      " 0.         0.         0.         0.         0.         0.\n",
      " 0.         0.         0.         0.         0.         0.04313725\n",
      " 0.74509804 0.99215686 0.2745098  0.         0.         0.\n",
      " 0.         0.         0.         0.         0.         0.\n",
      " 0.         0.         0.         0.         0.         0.\n",
      " 0.         0.         0.         0.         0.         0.\n",
      " 0.         0.         0.         0.         0.1372549  0.94509804\n",
      " 0.88235294 0.62745098 0.42352941 0.00392157 0.         0.\n",
      " 0.         0.         0.         0.         0.         0.\n",
      " 0.         0.         0.         0.         0.         0.\n",
      " 0.         0.         0.         0.         0.         0.\n",
      " 0.         0.         0.         0.31764706 0.94117647 0.99215686\n",
      " 0.99215686 0.46666667 0.09803922 0.         0.         0.\n",
      " 0.         0.         0.         0.         0.         0.\n",
      " 0.         0.         0.         0.         0.         0.\n",
      " 0.         0.         0.         0.         0.         0.\n",
      " 0.         0.         0.17647059 0.72941176 0.99215686 0.99215686\n",
      " 0.58823529 0.10588235 0.         0.         0.         0.\n",
      " 0.         0.         0.         0.         0.         0.\n",
      " 0.         0.         0.         0.         0.         0.\n",
      " 0.         0.         0.         0.         0.         0.\n",
      " 0.         0.0627451  0.36470588 0.98823529 0.99215686 0.73333333\n",
      " 0.         0.         0.         0.         0.         0.\n",
      " 0.         0.         0.         0.         0.         0.\n",
      " 0.         0.         0.         0.         0.         0.\n",
      " 0.         0.         0.         0.         0.         0.\n",
      " 0.         0.97647059 0.99215686 0.97647059 0.25098039 0.\n",
      " 0.         0.         0.         0.         0.         0.\n",
      " 0.         0.         0.         0.         0.         0.\n",
      " 0.         0.         0.         0.         0.         0.\n",
      " 0.         0.         0.18039216 0.50980392 0.71764706 0.99215686\n",
      " 0.99215686 0.81176471 0.00784314 0.         0.         0.\n",
      " 0.         0.         0.         0.         0.         0.\n",
      " 0.         0.         0.         0.         0.         0.\n",
      " 0.         0.         0.         0.         0.15294118 0.58039216\n",
      " 0.89803922 0.99215686 0.99215686 0.99215686 0.98039216 0.71372549\n",
      " 0.         0.         0.         0.         0.         0.\n",
      " 0.         0.         0.         0.         0.         0.\n",
      " 0.         0.         0.         0.         0.         0.\n",
      " 0.09411765 0.44705882 0.86666667 0.99215686 0.99215686 0.99215686\n",
      " 0.99215686 0.78823529 0.30588235 0.         0.         0.\n",
      " 0.         0.         0.         0.         0.         0.\n",
      " 0.         0.         0.         0.         0.         0.\n",
      " 0.         0.         0.09019608 0.25882353 0.83529412 0.99215686\n",
      " 0.99215686 0.99215686 0.99215686 0.77647059 0.31764706 0.00784314\n",
      " 0.         0.         0.         0.         0.         0.\n",
      " 0.         0.         0.         0.         0.         0.\n",
      " 0.         0.         0.         0.         0.07058824 0.67058824\n",
      " 0.85882353 0.99215686 0.99215686 0.99215686 0.99215686 0.76470588\n",
      " 0.31372549 0.03529412 0.         0.         0.         0.\n",
      " 0.         0.         0.         0.         0.         0.\n",
      " 0.         0.         0.         0.         0.         0.\n",
      " 0.21568627 0.6745098  0.88627451 0.99215686 0.99215686 0.99215686\n",
      " 0.99215686 0.95686275 0.52156863 0.04313725 0.         0.\n",
      " 0.         0.         0.         0.         0.         0.\n",
      " 0.         0.         0.         0.         0.         0.\n",
      " 0.         0.         0.         0.         0.53333333 0.99215686\n",
      " 0.99215686 0.99215686 0.83137255 0.52941176 0.51764706 0.0627451\n",
      " 0.         0.         0.         0.         0.         0.\n",
      " 0.         0.         0.         0.         0.         0.\n",
      " 0.         0.         0.         0.         0.         0.\n",
      " 0.         0.         0.         0.         0.         0.\n",
      " 0.         0.         0.         0.         0.         0.\n",
      " 0.         0.         0.         0.         0.         0.\n",
      " 0.         0.         0.         0.         0.         0.\n",
      " 0.         0.         0.         0.         0.         0.\n",
      " 0.         0.         0.         0.         0.         0.\n",
      " 0.         0.         0.         0.         0.         0.\n",
      " 0.         0.         0.         0.         0.         0.\n",
      " 0.         0.         0.         0.         0.         0.\n",
      " 0.         0.         0.         0.         0.         0.\n",
      " 0.         0.         0.         0.         0.         0.\n",
      " 0.         0.         0.         0.         0.         0.\n",
      " 0.         0.         0.         0.         0.         0.\n",
      " 0.         0.         0.         0.        ]\n"
     ]
    }
   ],
   "source": [
    "# example data point after normlizing\n",
    "print(x_train[0])"
   ]
  },
  {
   "cell_type": "code",
   "execution_count": 10,
   "metadata": {
    "colab": {
     "base_uri": "https://localhost:8080/",
     "height": 72
    },
    "colab_type": "code",
    "executionInfo": {
     "elapsed": 2823,
     "status": "ok",
     "timestamp": 1547721817450,
     "user": {
      "displayName": "Priya G",
      "photoUrl": "https://lh5.googleusercontent.com/-ulFA1q-SBEw/AAAAAAAAAAI/AAAAAAAAAaU/81PbAjtRvqw/s64/photo.jpg",
      "userId": "05458747731883366595"
     },
     "user_tz": -330
    },
    "id": "3Ruu-vXzQKbi",
    "outputId": "02366a98-c638-438a-b265-76fdb7958ed1"
   },
   "outputs": [
    {
     "name": "stdout",
     "output_type": "stream",
     "text": [
      "Class label of first image : 5\n",
      "After converting the output into a vector :  [0. 0. 0. 0. 0. 1. 0. 0. 0. 0.]\n"
     ]
    }
   ],
   "source": [
    "# here we are having a class number for each image\n",
    "print(\"Class label of first image :\", y_train[0])\n",
    "\n",
    "# lets convert this into a 10 dimensional vector\n",
    "# ex: consider an image is 5 convert it into 5 => [0, 0, 0, 0, 0, 1, 0, 0, 0, 0]\n",
    "# this conversion needed for MLPs \n",
    "\n",
    "y_train = np_utils.to_categorical(y_train, 10) \n",
    "y_test = np_utils.to_categorical(y_test, 10)\n",
    "\n",
    "print(\"After converting the output into a vector : \",y_train[0])"
   ]
  },
  {
   "cell_type": "markdown",
   "metadata": {
    "colab_type": "text",
    "id": "u0pWB6UyQKbk"
   },
   "source": [
    "<h2>  Softmax classifier  </h2>"
   ]
  },
  {
   "cell_type": "code",
   "execution_count": 11,
   "metadata": {
    "colab": {},
    "colab_type": "code",
    "id": "tLAGMubCQKbm"
   },
   "outputs": [],
   "source": [
    "# https://keras.io/getting-started/sequential-model-guide/\n",
    "\n",
    "# The Sequential model is a linear stack of layers.\n",
    "# you can create a Sequential model by passing a list of layer instances to the constructor:\n",
    "\n",
    "# model = Sequential([\n",
    "#     Dense(32, input_shape=(784,)),\n",
    "#     Activation('relu'),\n",
    "#     Dense(10),\n",
    "#     Activation('softmax'),\n",
    "# ])\n",
    "\n",
    "# You can also simply add layers via the .add() method:\n",
    "\n",
    "# model = Sequential()\n",
    "# model.add(Dense(32, input_dim=784))\n",
    "# model.add(Activation('relu'))\n",
    "\n",
    "###\n",
    "\n",
    "# https://keras.io/layers/core/\n",
    "\n",
    "# keras.layers.Dense(units, activation=None, use_bias=True, kernel_initializer='glorot_uniform', \n",
    "# bias_initializer='zeros', kernel_regularizer=None, bias_regularizer=None, activity_regularizer=None, \n",
    "# kernel_constraint=None, bias_constraint=None)\n",
    "\n",
    "# Dense implements the operation: output = activation(dot(input, kernel) + bias) where\n",
    "# activation is the element-wise activation function passed as the activation argument, \n",
    "# kernel is a weights matrix created by the layer, and \n",
    "# bias is a bias vector created by the layer (only applicable if use_bias is True).\n",
    "\n",
    "# output = activation(dot(input, kernel) + bias)  => y = activation(WT. X + b)\n",
    "\n",
    "####\n",
    "\n",
    "# https://keras.io/activations/\n",
    "\n",
    "# Activations can either be used through an Activation layer, or through the activation argument supported by all forward layers:\n",
    "\n",
    "# from keras.layers import Activation, Dense\n",
    "\n",
    "# model.add(Dense(64))\n",
    "# model.add(Activation('tanh'))\n",
    "\n",
    "# This is equivalent to:\n",
    "# model.add(Dense(64, activation='tanh'))\n",
    "\n",
    "# there are many activation functions ar available ex: tanh, relu, softmax\n",
    "\n",
    "\n",
    "from keras.models import Sequential \n",
    "from keras.layers import Dense, Activation \n",
    "from keras.initializers import he_normal\n"
   ]
  },
  {
   "cell_type": "code",
   "execution_count": 12,
   "metadata": {
    "colab": {},
    "colab_type": "code",
    "id": "I0s7jzhVQKbn"
   },
   "outputs": [],
   "source": [
    "# some model parameters\n",
    "\n",
    "output_dim = 10\n",
    "input_dim = x_train.shape[1]\n",
    "\n",
    "batch_size = 128 \n",
    "nb_epoch = 20"
   ]
  },
  {
   "cell_type": "markdown",
   "metadata": {
    "colab_type": "text",
    "id": "8a_ypLwsaBu1"
   },
   "source": [
    "# 1) 2-Hidden layer architecture (784-472-168-10 architecture)"
   ]
  },
  {
   "cell_type": "markdown",
   "metadata": {
    "colab_type": "text",
    "id": "9ccmfiVGQKcc"
   },
   "source": [
    "## 1.1  MLP + ReLU + ADAM "
   ]
  },
  {
   "cell_type": "code",
   "execution_count": 13,
   "metadata": {
    "colab": {
     "base_uri": "https://localhost:8080/",
     "height": 991
    },
    "colab_type": "code",
    "executionInfo": {
     "elapsed": 47277,
     "status": "ok",
     "timestamp": 1547721929716,
     "user": {
      "displayName": "Priya G",
      "photoUrl": "https://lh5.googleusercontent.com/-ulFA1q-SBEw/AAAAAAAAAAI/AAAAAAAAAaU/81PbAjtRvqw/s64/photo.jpg",
      "userId": "05458747731883366595"
     },
     "user_tz": -330
    },
    "id": "-CtwrinkQKcc",
    "outputId": "129e0b1f-9d18-4683-9fd0-6653445e13fd",
    "scrolled": true
   },
   "outputs": [
    {
     "name": "stdout",
     "output_type": "stream",
     "text": [
      "_________________________________________________________________\n",
      "Layer (type)                 Output Shape              Param #   \n",
      "=================================================================\n",
      "dense_1 (Dense)              (None, 472)               370520    \n",
      "_________________________________________________________________\n",
      "dense_2 (Dense)              (None, 168)               79464     \n",
      "_________________________________________________________________\n",
      "dense_3 (Dense)              (None, 10)                1690      \n",
      "=================================================================\n",
      "Total params: 451,674\n",
      "Trainable params: 451,674\n",
      "Non-trainable params: 0\n",
      "_________________________________________________________________\n",
      "None\n",
      "Train on 60000 samples, validate on 10000 samples\n",
      "Epoch 1/20\n",
      "60000/60000 [==============================] - 4s 65us/step - loss: 0.2342 - acc: 0.9321 - val_loss: 0.1046 - val_acc: 0.9690\n",
      "Epoch 2/20\n",
      "60000/60000 [==============================] - 2s 34us/step - loss: 0.0859 - acc: 0.9736 - val_loss: 0.0847 - val_acc: 0.9727\n",
      "Epoch 3/20\n",
      "60000/60000 [==============================] - 2s 34us/step - loss: 0.0549 - acc: 0.9831 - val_loss: 0.0754 - val_acc: 0.9770\n",
      "Epoch 4/20\n",
      "60000/60000 [==============================] - 2s 34us/step - loss: 0.0379 - acc: 0.9877 - val_loss: 0.0749 - val_acc: 0.9757\n",
      "Epoch 5/20\n",
      "60000/60000 [==============================] - 2s 34us/step - loss: 0.0269 - acc: 0.9916 - val_loss: 0.0797 - val_acc: 0.9754\n",
      "Epoch 6/20\n",
      "60000/60000 [==============================] - 2s 34us/step - loss: 0.0213 - acc: 0.9936 - val_loss: 0.0743 - val_acc: 0.9776\n",
      "Epoch 7/20\n",
      "60000/60000 [==============================] - 2s 34us/step - loss: 0.0187 - acc: 0.9939 - val_loss: 0.0746 - val_acc: 0.9782\n",
      "Epoch 8/20\n",
      "60000/60000 [==============================] - 2s 34us/step - loss: 0.0161 - acc: 0.9946 - val_loss: 0.0806 - val_acc: 0.9780\n",
      "Epoch 9/20\n",
      "60000/60000 [==============================] - 2s 34us/step - loss: 0.0131 - acc: 0.9957 - val_loss: 0.0746 - val_acc: 0.9798\n",
      "Epoch 10/20\n",
      "60000/60000 [==============================] - 2s 34us/step - loss: 0.0143 - acc: 0.9949 - val_loss: 0.0998 - val_acc: 0.9754\n",
      "Epoch 11/20\n",
      "60000/60000 [==============================] - 2s 34us/step - loss: 0.0099 - acc: 0.9970 - val_loss: 0.0709 - val_acc: 0.9822\n",
      "Epoch 12/20\n",
      "60000/60000 [==============================] - 2s 34us/step - loss: 0.0099 - acc: 0.9967 - val_loss: 0.0737 - val_acc: 0.9814\n",
      "Epoch 13/20\n",
      "60000/60000 [==============================] - 2s 34us/step - loss: 0.0098 - acc: 0.9966 - val_loss: 0.0865 - val_acc: 0.9797\n",
      "Epoch 14/20\n",
      "60000/60000 [==============================] - 2s 34us/step - loss: 0.0111 - acc: 0.9963 - val_loss: 0.1118 - val_acc: 0.9743\n",
      "Epoch 15/20\n",
      "60000/60000 [==============================] - 2s 34us/step - loss: 0.0074 - acc: 0.9977 - val_loss: 0.0829 - val_acc: 0.9815\n",
      "Epoch 16/20\n",
      "60000/60000 [==============================] - 2s 34us/step - loss: 0.0072 - acc: 0.9978 - val_loss: 0.0882 - val_acc: 0.9812\n",
      "Epoch 17/20\n",
      "60000/60000 [==============================] - 2s 34us/step - loss: 0.0087 - acc: 0.9971 - val_loss: 0.0959 - val_acc: 0.9797\n",
      "Epoch 18/20\n",
      "60000/60000 [==============================] - 2s 34us/step - loss: 0.0067 - acc: 0.9977 - val_loss: 0.0795 - val_acc: 0.9831\n",
      "Epoch 19/20\n",
      "60000/60000 [==============================] - 2s 34us/step - loss: 0.0064 - acc: 0.9980 - val_loss: 0.0994 - val_acc: 0.9797\n",
      "Epoch 20/20\n",
      "60000/60000 [==============================] - 2s 34us/step - loss: 0.0080 - acc: 0.9974 - val_loss: 0.0804 - val_acc: 0.9824\n"
     ]
    }
   ],
   "source": [
    "model_relu = Sequential()\n",
    "model_relu.add(Dense(472, activation='relu', input_shape=(input_dim,),\n",
    "                     kernel_initializer=he_normal(seed=None)))\n",
    "model_relu.add(Dense(168, activation='relu', \n",
    "                     kernel_initializer=he_normal(seed=None)) )\n",
    "model_relu.add(Dense(output_dim, activation='softmax'))\n",
    "\n",
    "print(model_relu.summary())\n",
    "\n",
    "model_relu.compile(optimizer='adam',\n",
    "                   loss='categorical_crossentropy',\n",
    "                   metrics=['accuracy'])\n",
    "\n",
    "history11 = model_relu.fit(x_train, y_train, \n",
    "                         batch_size=batch_size, \n",
    "                         epochs=nb_epoch, verbose=1, \n",
    "                         validation_data=(x_test, y_test))"
   ]
  },
  {
   "cell_type": "code",
   "execution_count": 14,
   "metadata": {
    "colab": {
     "base_uri": "https://localhost:8080/",
     "height": 52
    },
    "colab_type": "code",
    "executionInfo": {
     "elapsed": 2170,
     "status": "ok",
     "timestamp": 1547721939051,
     "user": {
      "displayName": "Priya G",
      "photoUrl": "https://lh5.googleusercontent.com/-ulFA1q-SBEw/AAAAAAAAAAI/AAAAAAAAAaU/81PbAjtRvqw/s64/photo.jpg",
      "userId": "05458747731883366595"
     },
     "user_tz": -330
    },
    "id": "niCdh2TUQKce",
    "outputId": "13e4e57b-6c46-4e3d-bab9-59f4bca53611"
   },
   "outputs": [
    {
     "name": "stdout",
     "output_type": "stream",
     "text": [
      "Test score: 0.0804028440125881\n",
      "Test accuracy: 0.9824\n"
     ]
    },
    {
     "data": {
      "image/png": "[encoded data removed]",
      "text/plain": [
       "<Figure size 432x288 with 1 Axes>"
      ]
     },
     "metadata": {},
     "output_type": "display_data"
    }
   ],
   "source": [
    "score = model_relu.evaluate(x_test, y_test, verbose=0) \n",
    "score1=score[0]\n",
    "score2=score[1]\n",
    "train_acc1=history11.history['acc']\n",
    "print('Test score:', score[0]) \n",
    "print('Test accuracy:', score[1])\n",
    "\n",
    "fig,ax11 = plt.subplots(1,1)\n",
    "ax11.set_xlabel('epoch') ; ax11.set_ylabel('Categorical Crossentropy Loss')\n",
    "\n",
    "# list of epoch numbers\n",
    "x = list(range(1,nb_epoch+1))\n",
    "\n",
    "# print(history.history.keys())\n",
    "# dict_keys(['val_loss', 'val_acc', 'loss', 'acc'])\n",
    "# history = model_drop.fit(x_train, y_train, batch_size=batch_size, epochs=nb_epoch, verbose=1, validation_data=(x_test, y_test))\n",
    "\n",
    "# we will get val_loss and val_acc only when you pass the paramter validation_data\n",
    "# val_loss : validation loss\n",
    "# val_acc : validation accuracy\n",
    "\n",
    "# loss : training loss\n",
    "# acc : train accuracy\n",
    "# for each key in histrory.histrory we will have a list of length equal to number of epochs\n",
    "\n",
    "\n",
    "vy11 = history11.history['val_loss']\n",
    "ty11 = history11.history['loss']\n",
    "plt_dynamic(x, vy11, ty11, ax11)"
   ]
  },
  {
   "cell_type": "markdown",
   "metadata": {
    "colab_type": "text",
    "id": "TjduBU7hQKch"
   },
   "source": [
    "## 1.2 MLP + Batch-Norm on hidden Layers + AdamOptimizer "
   ]
  },
  {
   "cell_type": "code",
   "execution_count": 15,
   "metadata": {
    "colab": {
     "base_uri": "https://localhost:8080/",
     "height": 312
    },
    "colab_type": "code",
    "executionInfo": {
     "elapsed": 1705,
     "status": "ok",
     "timestamp": 1547721980675,
     "user": {
      "displayName": "Priya G",
      "photoUrl": "https://lh5.googleusercontent.com/-ulFA1q-SBEw/AAAAAAAAAAI/AAAAAAAAAaU/81PbAjtRvqw/s64/photo.jpg",
      "userId": "05458747731883366595"
     },
     "user_tz": -330
    },
    "id": "KGHnPnoTQKci",
    "outputId": "ff9d842a-0156-4889-c422-c28bf069ff9c"
   },
   "outputs": [
    {
     "name": "stdout",
     "output_type": "stream",
     "text": [
      "_________________________________________________________________\n",
      "Layer (type)                 Output Shape              Param #   \n",
      "=================================================================\n",
      "dense_4 (Dense)              (None, 472)               370520    \n",
      "_________________________________________________________________\n",
      "batch_normalization_1 (Batch (None, 472)               1888      \n",
      "_________________________________________________________________\n",
      "dense_5 (Dense)              (None, 168)               79464     \n",
      "_________________________________________________________________\n",
      "batch_normalization_2 (Batch (None, 168)               672       \n",
      "_________________________________________________________________\n",
      "dense_6 (Dense)              (None, 10)                1690      \n",
      "=================================================================\n",
      "Total params: 454,234\n",
      "Trainable params: 452,954\n",
      "Non-trainable params: 1,280\n",
      "_________________________________________________________________\n"
     ]
    }
   ],
   "source": [
    "\n",
    "\n",
    "from keras.layers.normalization import BatchNormalization\n",
    "\n",
    "model_batch = Sequential()\n",
    "\n",
    "model_batch.add(Dense(472, activation='relu', \n",
    "                      input_shape=(input_dim,),\n",
    "                      kernel_initializer=he_normal(seed=None)))\n",
    "model_batch.add(BatchNormalization())\n",
    "\n",
    "model_batch.add(Dense(168, activation='relu', \n",
    "                      kernel_initializer=he_normal(seed=None)) )\n",
    "model_batch.add(BatchNormalization())\n",
    "\n",
    "model_batch.add(Dense(output_dim, activation='softmax'))\n",
    "\n",
    "\n",
    "model_batch.summary()"
   ]
  },
  {
   "cell_type": "code",
   "execution_count": 16,
   "metadata": {
    "colab": {
     "base_uri": "https://localhost:8080/",
     "height": 748
    },
    "colab_type": "code",
    "executionInfo": {
     "elapsed": 72100,
     "status": "ok",
     "timestamp": 1547722051511,
     "user": {
      "displayName": "Priya G",
      "photoUrl": "https://lh5.googleusercontent.com/-ulFA1q-SBEw/AAAAAAAAAAI/AAAAAAAAAaU/81PbAjtRvqw/s64/photo.jpg",
      "userId": "05458747731883366595"
     },
     "user_tz": -330
    },
    "id": "yMPo5fcUQKcm",
    "outputId": "384157f9-ea50-423d-9432-a0bc0626e7b2"
   },
   "outputs": [
    {
     "name": "stdout",
     "output_type": "stream",
     "text": [
      "Train on 60000 samples, validate on 10000 samples\n",
      "Epoch 1/20\n",
      "60000/60000 [==============================] - 4s 65us/step - loss: 0.1869 - acc: 0.9439 - val_loss: 0.1017 - val_acc: 0.9669\n",
      "Epoch 2/20\n",
      "60000/60000 [==============================] - 3s 54us/step - loss: 0.0706 - acc: 0.9788 - val_loss: 0.0791 - val_acc: 0.9757\n",
      "Epoch 3/20\n",
      "60000/60000 [==============================] - 3s 55us/step - loss: 0.0439 - acc: 0.9867 - val_loss: 0.0820 - val_acc: 0.9743\n",
      "Epoch 4/20\n",
      "60000/60000 [==============================] - 3s 54us/step - loss: 0.0325 - acc: 0.9893 - val_loss: 0.0782 - val_acc: 0.9767\n",
      "Epoch 5/20\n",
      "60000/60000 [==============================] - 3s 54us/step - loss: 0.0249 - acc: 0.9919 - val_loss: 0.0910 - val_acc: 0.9729\n",
      "Epoch 6/20\n",
      "60000/60000 [==============================] - 3s 55us/step - loss: 0.0203 - acc: 0.9936 - val_loss: 0.0749 - val_acc: 0.9752\n",
      "Epoch 7/20\n",
      "60000/60000 [==============================] - 3s 54us/step - loss: 0.0195 - acc: 0.9933 - val_loss: 0.0861 - val_acc: 0.9743\n",
      "Epoch 8/20\n",
      "60000/60000 [==============================] - 3s 55us/step - loss: 0.0159 - acc: 0.9945 - val_loss: 0.0724 - val_acc: 0.9794\n",
      "Epoch 9/20\n",
      "60000/60000 [==============================] - 3s 55us/step - loss: 0.0170 - acc: 0.9943 - val_loss: 0.0812 - val_acc: 0.9778\n",
      "Epoch 10/20\n",
      "60000/60000 [==============================] - 3s 54us/step - loss: 0.0129 - acc: 0.9959 - val_loss: 0.0657 - val_acc: 0.9815\n",
      "Epoch 11/20\n",
      "60000/60000 [==============================] - 3s 54us/step - loss: 0.0135 - acc: 0.9956 - val_loss: 0.0743 - val_acc: 0.9795\n",
      "Epoch 12/20\n",
      "60000/60000 [==============================] - 3s 55us/step - loss: 0.0114 - acc: 0.9964 - val_loss: 0.0838 - val_acc: 0.9762\n",
      "Epoch 13/20\n",
      "60000/60000 [==============================] - 3s 54us/step - loss: 0.0099 - acc: 0.9967 - val_loss: 0.0798 - val_acc: 0.9788\n",
      "Epoch 14/20\n",
      "60000/60000 [==============================] - 3s 54us/step - loss: 0.0083 - acc: 0.9973 - val_loss: 0.0695 - val_acc: 0.9806\n",
      "Epoch 15/20\n",
      "60000/60000 [==============================] - 3s 54us/step - loss: 0.0081 - acc: 0.9974 - val_loss: 0.0745 - val_acc: 0.9814\n",
      "Epoch 16/20\n",
      "60000/60000 [==============================] - 3s 54us/step - loss: 0.0083 - acc: 0.9970 - val_loss: 0.0783 - val_acc: 0.9799\n",
      "Epoch 17/20\n",
      "60000/60000 [==============================] - 3s 55us/step - loss: 0.0105 - acc: 0.9965 - val_loss: 0.0791 - val_acc: 0.9803\n",
      "Epoch 18/20\n",
      "60000/60000 [==============================] - 3s 54us/step - loss: 0.0094 - acc: 0.9968 - val_loss: 0.0753 - val_acc: 0.9815\n",
      "Epoch 19/20\n",
      "60000/60000 [==============================] - 3s 54us/step - loss: 0.0055 - acc: 0.9982 - val_loss: 0.0764 - val_acc: 0.9805\n",
      "Epoch 20/20\n",
      "60000/60000 [==============================] - 3s 55us/step - loss: 0.0057 - acc: 0.9981 - val_loss: 0.0790 - val_acc: 0.9797\n"
     ]
    }
   ],
   "source": [
    "model_batch.compile(optimizer='adam', loss='categorical_crossentropy', \n",
    "                    metrics=['accuracy'])\n",
    "\n",
    "history12 = model_batch.fit(x_train, y_train, \n",
    "                           batch_size=batch_size,\n",
    "                           epochs=nb_epoch, verbose=1, \n",
    "                           validation_data=(x_test, y_test))"
   ]
  },
  {
   "cell_type": "code",
   "execution_count": 17,
   "metadata": {
    "colab": {
     "base_uri": "https://localhost:8080/",
     "height": 52
    },
    "colab_type": "code",
    "executionInfo": {
     "elapsed": 1960,
     "status": "ok",
     "timestamp": 1547722100929,
     "user": {
      "displayName": "Priya G",
      "photoUrl": "https://lh5.googleusercontent.com/-ulFA1q-SBEw/AAAAAAAAAAI/AAAAAAAAAaU/81PbAjtRvqw/s64/photo.jpg",
      "userId": "05458747731883366595"
     },
     "user_tz": -330
    },
    "id": "HThyBcHUQKcn",
    "outputId": "6cfa9934-e51e-41b1-b7dc-760182c3e360"
   },
   "outputs": [
    {
     "name": "stdout",
     "output_type": "stream",
     "text": [
      "Test score: 0.07902511259189378\n",
      "Test accuracy: 0.9797\n"
     ]
    },
    {
     "data": {
      "image/png": "[encoded data removed]",
      "text/plain": [
       "<Figure size 432x288 with 1 Axes>"
      ]
     },
     "metadata": {},
     "output_type": "display_data"
    }
   ],
   "source": [
    "score = model_batch.evaluate(x_test, y_test, verbose=0) \n",
    "print('Test score:', score[0]) \n",
    "print('Test accuracy:', score[1])\n",
    "score3=score[0]\n",
    "score4=score[1]\n",
    "train_acc2=history11.history['acc']\n",
    "\n",
    "fig,ax12 = plt.subplots(1,1)\n",
    "ax12.set_xlabel('epoch') ; ax12.set_ylabel('Categorical Crossentropy Loss')\n",
    "\n",
    "# list of epoch numbers\n",
    "x = list(range(1,nb_epoch+1))\n",
    "\n",
    "\n",
    "vy12 = history12.history['val_loss']\n",
    "ty12 = history12.history['loss']\n",
    "plt_dynamic(x, vy12, ty12, ax12)"
   ]
  },
  {
   "cell_type": "markdown",
   "metadata": {
    "colab_type": "text",
    "id": "IWYP8-3pQKct"
   },
   "source": [
    "## 1.3 MLP + Dropout + AdamOptimizer "
   ]
  },
  {
   "cell_type": "code",
   "execution_count": 18,
   "metadata": {
    "colab": {
     "base_uri": "https://localhost:8080/",
     "height": 381
    },
    "colab_type": "code",
    "executionInfo": {
     "elapsed": 1133,
     "status": "ok",
     "timestamp": 1547722115301,
     "user": {
      "displayName": "Priya G",
      "photoUrl": "https://lh5.googleusercontent.com/-ulFA1q-SBEw/AAAAAAAAAAI/AAAAAAAAAaU/81PbAjtRvqw/s64/photo.jpg",
      "userId": "05458747731883366595"
     },
     "user_tz": -330
    },
    "id": "DJj0hu0-QKct",
    "outputId": "418056bf-b5b3-442d-cd2b-468a637445e7"
   },
   "outputs": [
    {
     "name": "stdout",
     "output_type": "stream",
     "text": [
      "_________________________________________________________________\n",
      "Layer (type)                 Output Shape              Param #   \n",
      "=================================================================\n",
      "dense_7 (Dense)              (None, 472)               370520    \n",
      "_________________________________________________________________\n",
      "batch_normalization_3 (Batch (None, 472)               1888      \n",
      "_________________________________________________________________\n",
      "dropout_1 (Dropout)          (None, 472)               0         \n",
      "_________________________________________________________________\n",
      "dense_8 (Dense)              (None, 168)               79464     \n",
      "_________________________________________________________________\n",
      "batch_normalization_4 (Batch (None, 168)               672       \n",
      "_________________________________________________________________\n",
      "dropout_2 (Dropout)          (None, 168)               0         \n",
      "_________________________________________________________________\n",
      "dense_9 (Dense)              (None, 10)                1690      \n",
      "=================================================================\n",
      "Total params: 454,234\n",
      "Trainable params: 452,954\n",
      "Non-trainable params: 1,280\n",
      "_________________________________________________________________\n"
     ]
    }
   ],
   "source": [
    "# https://stackoverflow.com/questions/34716454/where-do-i-call-the-batchnormalization-function-in-keras\n",
    "\n",
    "from keras.layers import Dropout\n",
    "\n",
    "model_drop = Sequential()\n",
    "\n",
    "model_drop.add(Dense(472, activation='relu',\n",
    "                     input_shape=(input_dim,),\n",
    "                     kernel_initializer=he_normal(seed=None)))\n",
    "model_drop.add(BatchNormalization())\n",
    "model_drop.add(Dropout(0.5))\n",
    "\n",
    "model_drop.add(Dense(168, activation='relu',\n",
    "                     kernel_initializer=he_normal(seed=None)) )\n",
    "model_drop.add(BatchNormalization())\n",
    "model_drop.add(Dropout(0.5))\n",
    "\n",
    "model_drop.add(Dense(output_dim, activation='softmax'))\n",
    "\n",
    "\n",
    "model_drop.summary()"
   ]
  },
  {
   "cell_type": "code",
   "execution_count": 19,
   "metadata": {
    "colab": {
     "base_uri": "https://localhost:8080/",
     "height": 748
    },
    "colab_type": "code",
    "executionInfo": {
     "elapsed": 74942,
     "status": "ok",
     "timestamp": 1547722191083,
     "user": {
      "displayName": "Priya G",
      "photoUrl": "https://lh5.googleusercontent.com/-ulFA1q-SBEw/AAAAAAAAAAI/AAAAAAAAAaU/81PbAjtRvqw/s64/photo.jpg",
      "userId": "05458747731883366595"
     },
     "user_tz": -330
    },
    "id": "J5pc4W_9QKcw",
    "outputId": "7609a1ba-dd78-44ff-9906-1688b1e41fec"
   },
   "outputs": [
    {
     "name": "stdout",
     "output_type": "stream",
     "text": [
      "Train on 60000 samples, validate on 10000 samples\n",
      "Epoch 1/20\n",
      "60000/60000 [==============================] - 4s 70us/step - loss: 0.4343 - acc: 0.8696 - val_loss: 0.1400 - val_acc: 0.9560\n",
      "Epoch 2/20\n",
      "60000/60000 [==============================] - 3s 56us/step - loss: 0.2069 - acc: 0.9376 - val_loss: 0.1039 - val_acc: 0.9668\n",
      "Epoch 3/20\n",
      "60000/60000 [==============================] - 3s 57us/step - loss: 0.1648 - acc: 0.9501 - val_loss: 0.0917 - val_acc: 0.9695\n",
      "Epoch 4/20\n",
      "60000/60000 [==============================] - 3s 56us/step - loss: 0.1389 - acc: 0.9583 - val_loss: 0.0773 - val_acc: 0.9762\n",
      "Epoch 5/20\n",
      "60000/60000 [==============================] - 3s 56us/step - loss: 0.1204 - acc: 0.9626 - val_loss: 0.0778 - val_acc: 0.9744\n",
      "Epoch 6/20\n",
      "60000/60000 [==============================] - 3s 57us/step - loss: 0.1042 - acc: 0.9674 - val_loss: 0.0693 - val_acc: 0.9764\n",
      "Epoch 7/20\n",
      "60000/60000 [==============================] - 3s 56us/step - loss: 0.0984 - acc: 0.9691 - val_loss: 0.0708 - val_acc: 0.9786\n",
      "Epoch 8/20\n",
      "60000/60000 [==============================] - 3s 57us/step - loss: 0.0922 - acc: 0.9708 - val_loss: 0.0714 - val_acc: 0.9787\n",
      "Epoch 9/20\n",
      "60000/60000 [==============================] - 3s 56us/step - loss: 0.0895 - acc: 0.9716 - val_loss: 0.0615 - val_acc: 0.9817\n",
      "Epoch 10/20\n",
      "60000/60000 [==============================] - 3s 56us/step - loss: 0.0834 - acc: 0.9735 - val_loss: 0.0655 - val_acc: 0.9797\n",
      "Epoch 11/20\n",
      "60000/60000 [==============================] - 3s 56us/step - loss: 0.0762 - acc: 0.9759 - val_loss: 0.0589 - val_acc: 0.9829\n",
      "Epoch 12/20\n",
      "60000/60000 [==============================] - 3s 57us/step - loss: 0.0748 - acc: 0.9766 - val_loss: 0.0620 - val_acc: 0.9814\n",
      "Epoch 13/20\n",
      "60000/60000 [==============================] - 3s 57us/step - loss: 0.0691 - acc: 0.9783 - val_loss: 0.0595 - val_acc: 0.9835\n",
      "Epoch 14/20\n",
      "60000/60000 [==============================] - 3s 56us/step - loss: 0.0690 - acc: 0.9780 - val_loss: 0.0562 - val_acc: 0.9828\n",
      "Epoch 15/20\n",
      "60000/60000 [==============================] - 3s 56us/step - loss: 0.0652 - acc: 0.9790 - val_loss: 0.0579 - val_acc: 0.9820\n",
      "Epoch 16/20\n",
      "60000/60000 [==============================] - 3s 56us/step - loss: 0.0597 - acc: 0.9808 - val_loss: 0.0549 - val_acc: 0.9830\n",
      "Epoch 17/20\n",
      "60000/60000 [==============================] - 3s 57us/step - loss: 0.0582 - acc: 0.9815 - val_loss: 0.0607 - val_acc: 0.9819\n",
      "Epoch 18/20\n",
      "60000/60000 [==============================] - 3s 57us/step - loss: 0.0581 - acc: 0.9811 - val_loss: 0.0549 - val_acc: 0.9833\n",
      "Epoch 19/20\n",
      "60000/60000 [==============================] - 3s 56us/step - loss: 0.0540 - acc: 0.9826 - val_loss: 0.0567 - val_acc: 0.9826\n",
      "Epoch 20/20\n",
      "60000/60000 [==============================] - 3s 56us/step - loss: 0.0533 - acc: 0.9832 - val_loss: 0.0636 - val_acc: 0.9820\n"
     ]
    }
   ],
   "source": [
    "model_drop.compile(optimizer='adam',\n",
    "                   loss='categorical_crossentropy',\n",
    "                   metrics=['accuracy'])\n",
    "\n",
    "history13 = model_drop.fit(x_train, y_train,\n",
    "                         batch_size=batch_size,\n",
    "                         \n",
    "                         epochs=nb_epoch, verbose=1,\n",
    "                         validation_data=(x_test, y_test))"
   ]
  },
  {
   "cell_type": "code",
   "execution_count": 20,
   "metadata": {
    "colab": {
     "base_uri": "https://localhost:8080/",
     "height": 52
    },
    "colab_type": "code",
    "executionInfo": {
     "elapsed": 68453,
     "status": "ok",
     "timestamp": 1547722192411,
     "user": {
      "displayName": "Priya G",
      "photoUrl": "https://lh5.googleusercontent.com/-ulFA1q-SBEw/AAAAAAAAAAI/AAAAAAAAAaU/81PbAjtRvqw/s64/photo.jpg",
      "userId": "05458747731883366595"
     },
     "user_tz": -330
    },
    "id": "i5WcfQRFQKc0",
    "outputId": "594b41cc-5cb9-4769-af01-6629e5dac59c"
   },
   "outputs": [
    {
     "name": "stdout",
     "output_type": "stream",
     "text": [
      "Test score: 0.06363873664251878\n",
      "Test accuracy: 0.982\n"
     ]
    },
    {
     "data": {
      "image/png": "[encoded data removed]",
      "text/plain": [
       "<Figure size 432x288 with 1 Axes>"
      ]
     },
     "metadata": {},
     "output_type": "display_data"
    }
   ],
   "source": [
    "score = model_drop.evaluate(x_test, y_test, verbose=0) \n",
    "score5=score[0]\n",
    "score6=score[1]\n",
    "train_acc3=history11.history['acc']\n",
    "print('Test score:', score[0]) \n",
    "print('Test accuracy:', score[1])\n",
    "\n",
    "fig,ax13 = plt.subplots(1,1)\n",
    "ax13.set_xlabel('epoch') ; ax13.set_ylabel('Categorical Crossentropy Loss')\n",
    "\n",
    "vy13 = history13.history['val_loss']\n",
    "ty13 = history13.history['loss']\n",
    "plt_dynamic(x, vy13, ty13, ax13)"
   ]
  },
  {
   "cell_type": "markdown",
   "metadata": {
    "colab": {},
    "colab_type": "code",
    "id": "rP6Nn_Cxa0p3"
   },
   "source": [
    "# 2) 3-Hidden layer architecture (784-352-164-124 architecture)"
   ]
  },
  {
   "cell_type": "markdown",
   "metadata": {
    "colab_type": "text",
    "id": "9ccmfiVGQKcc"
   },
   "source": [
    "## 2.1  MLP + ReLU + ADAM "
   ]
  },
  {
   "cell_type": "code",
   "execution_count": 21,
   "metadata": {},
   "outputs": [
    {
     "name": "stdout",
     "output_type": "stream",
     "text": [
      "_________________________________________________________________\n",
      "Layer (type)                 Output Shape              Param #   \n",
      "=================================================================\n",
      "dense_10 (Dense)             (None, 352)               276320    \n",
      "_________________________________________________________________\n",
      "dense_11 (Dense)             (None, 164)               57892     \n",
      "_________________________________________________________________\n",
      "dense_12 (Dense)             (None, 124)               20460     \n",
      "_________________________________________________________________\n",
      "dense_13 (Dense)             (None, 10)                1250      \n",
      "=================================================================\n",
      "Total params: 355,922\n",
      "Trainable params: 355,922\n",
      "Non-trainable params: 0\n",
      "_________________________________________________________________\n",
      "None\n",
      "Train on 60000 samples, validate on 10000 samples\n",
      "Epoch 1/20\n",
      "60000/60000 [==============================] - 3s 43us/step - loss: 0.2384 - acc: 0.9297 - val_loss: 0.1191 - val_acc: 0.9635\n",
      "Epoch 2/20\n",
      "60000/60000 [==============================] - 2s 35us/step - loss: 0.0917 - acc: 0.9718 - val_loss: 0.0898 - val_acc: 0.9727\n",
      "Epoch 3/20\n",
      "60000/60000 [==============================] - 2s 36us/step - loss: 0.0595 - acc: 0.9813 - val_loss: 0.0870 - val_acc: 0.9731\n",
      "Epoch 4/20\n",
      "60000/60000 [==============================] - 2s 36us/step - loss: 0.0431 - acc: 0.9861 - val_loss: 0.0912 - val_acc: 0.9733\n",
      "Epoch 5/20\n",
      "60000/60000 [==============================] - 2s 36us/step - loss: 0.0326 - acc: 0.9894 - val_loss: 0.0768 - val_acc: 0.9779\n",
      "Epoch 6/20\n",
      "60000/60000 [==============================] - 2s 36us/step - loss: 0.0278 - acc: 0.9912 - val_loss: 0.0760 - val_acc: 0.9781\n",
      "Epoch 7/20\n",
      "60000/60000 [==============================] - 2s 36us/step - loss: 0.0239 - acc: 0.9917 - val_loss: 0.0852 - val_acc: 0.9739\n",
      "Epoch 8/20\n",
      "60000/60000 [==============================] - 2s 36us/step - loss: 0.0174 - acc: 0.9942 - val_loss: 0.0831 - val_acc: 0.9772\n",
      "Epoch 9/20\n",
      "60000/60000 [==============================] - 2s 35us/step - loss: 0.0139 - acc: 0.9951 - val_loss: 0.1033 - val_acc: 0.9744\n",
      "Epoch 10/20\n",
      "60000/60000 [==============================] - 2s 36us/step - loss: 0.0169 - acc: 0.9942 - val_loss: 0.0819 - val_acc: 0.9794\n",
      "Epoch 11/20\n",
      "60000/60000 [==============================] - 2s 36us/step - loss: 0.0133 - acc: 0.9955 - val_loss: 0.0802 - val_acc: 0.9820\n",
      "Epoch 12/20\n",
      "60000/60000 [==============================] - 2s 36us/step - loss: 0.0154 - acc: 0.9949 - val_loss: 0.1081 - val_acc: 0.9754\n",
      "Epoch 13/20\n",
      "60000/60000 [==============================] - 2s 36us/step - loss: 0.0126 - acc: 0.9959 - val_loss: 0.0866 - val_acc: 0.9809\n",
      "Epoch 14/20\n",
      "60000/60000 [==============================] - 2s 36us/step - loss: 0.0095 - acc: 0.9968 - val_loss: 0.0990 - val_acc: 0.9788\n",
      "Epoch 15/20\n",
      "60000/60000 [==============================] - 2s 36us/step - loss: 0.0121 - acc: 0.9963 - val_loss: 0.0841 - val_acc: 0.9803\n",
      "Epoch 16/20\n",
      "60000/60000 [==============================] - 2s 36us/step - loss: 0.0126 - acc: 0.9961 - val_loss: 0.0825 - val_acc: 0.9822\n",
      "Epoch 17/20\n",
      "60000/60000 [==============================] - 2s 36us/step - loss: 0.0088 - acc: 0.9971 - val_loss: 0.0915 - val_acc: 0.9803\n",
      "Epoch 18/20\n",
      "60000/60000 [==============================] - 2s 36us/step - loss: 0.0081 - acc: 0.9974 - val_loss: 0.1088 - val_acc: 0.9784\n",
      "Epoch 19/20\n",
      "60000/60000 [==============================] - 2s 36us/step - loss: 0.0123 - acc: 0.9960 - val_loss: 0.0885 - val_acc: 0.9816\n",
      "Epoch 20/20\n",
      "60000/60000 [==============================] - 2s 36us/step - loss: 0.0077 - acc: 0.9976 - val_loss: 0.0931 - val_acc: 0.9801\n"
     ]
    }
   ],
   "source": [
    "model_relu = Sequential()\n",
    "model_relu.add(Dense(352, activation='relu', input_shape=(input_dim,),\n",
    "                     kernel_initializer=he_normal(seed=None)))\n",
    "model_relu.add(Dense(164, activation='relu', \n",
    "                     kernel_initializer=he_normal(seed=None)) )\n",
    "                                                    \n",
    "model_relu.add(Dense(124, activation='relu', \n",
    "                     kernel_initializer=he_normal(seed=None)) )\n",
    "model_relu.add(Dense(output_dim, activation='softmax'))\n",
    "\n",
    "print(model_relu.summary())\n",
    "\n",
    "model_relu.compile(optimizer='adam',\n",
    "                   loss='categorical_crossentropy',\n",
    "                   metrics=['accuracy'])\n",
    "\n",
    "history21 = model_relu.fit(x_train, y_train, \n",
    "                         batch_size=batch_size, \n",
    "                         epochs=nb_epoch, verbose=1, \n",
    "                         validation_data=(x_test, y_test))"
   ]
  },
  {
   "cell_type": "code",
   "execution_count": 22,
   "metadata": {
    "colab": {
     "base_uri": "https://localhost:8080/",
     "height": 52
    },
    "colab_type": "code",
    "executionInfo": {
     "elapsed": 2170,
     "status": "ok",
     "timestamp": 1547721939051,
     "user": {
      "displayName": "Priya G",
      "photoUrl": "https://lh5.googleusercontent.com/-ulFA1q-SBEw/AAAAAAAAAAI/AAAAAAAAAaU/81PbAjtRvqw/s64/photo.jpg",
      "userId": "05458747731883366595"
     },
     "user_tz": -330
    },
    "id": "niCdh2TUQKce",
    "outputId": "13e4e57b-6c46-4e3d-bab9-59f4bca53611"
   },
   "outputs": [
    {
     "name": "stdout",
     "output_type": "stream",
     "text": [
      "Test score: 0.0930518318862476\n",
      "Test accuracy: 0.9801\n"
     ]
    },
    {
     "data": {
      "image/png": "[encoded data removed]",
      "text/plain": [
       "<Figure size 432x288 with 1 Axes>"
      ]
     },
     "metadata": {},
     "output_type": "display_data"
    }
   ],
   "source": [
    "score = model_relu.evaluate(x_test, y_test, verbose=0) \n",
    "score7=score[0]\n",
    "score8=score[1]\n",
    "train_acc4=history11.history['acc']\n",
    "print('Test score:', score[0]) \n",
    "print('Test accuracy:', score[1])\n",
    "\n",
    "fig,ax21 = plt.subplots(1,1)\n",
    "ax21.set_xlabel('epoch') ; ax21.set_ylabel('Categorical Crossentropy Loss')\n",
    "\n",
    "# list of epoch numbers\n",
    "x = list(range(1,nb_epoch+1))\n",
    "\n",
    "\n",
    "vy21 = history21.history['val_loss']\n",
    "ty21 = history21.history['loss']\n",
    "plt_dynamic(x, vy21, ty21, ax21)"
   ]
  },
  {
   "cell_type": "markdown",
   "metadata": {
    "colab_type": "text",
    "id": "TjduBU7hQKch"
   },
   "source": [
    "<h2> 2.2 MLP + Batch-Norm on hidden Layers + AdamOptimizer </2>"
   ]
  },
  {
   "cell_type": "code",
   "execution_count": 24,
   "metadata": {},
   "outputs": [],
   "source": [
    "\n",
    "\n",
    "from keras.layers.normalization import BatchNormalization\n",
    "\n",
    "model_batch = Sequential()\n",
    "\n",
    "model_relu.add(Dense(352, activation='relu', input_shape=(input_dim,),\n",
    "                     kernel_initializer=he_normal(seed=None)))\n",
    "model_batch.add(BatchNormalization())\n",
    "model_relu.add(Dense(164, activation='relu', \n",
    "                     kernel_initializer=he_normal(seed=None)) )\n",
    "model_batch.add(BatchNormalization())\n",
    "                                                    \n",
    "model_relu.add(Dense(124, activation='relu', \n",
    "                     kernel_initializer=he_normal(seed=None)) )\n",
    "model_batch.add(BatchNormalization())\n",
    "\n",
    "model_batch.add(Dense(output_dim, activation='softmax'))\n",
    "\n",
    "\n"
   ]
  },
  {
   "cell_type": "code",
   "execution_count": 25,
   "metadata": {},
   "outputs": [
    {
     "name": "stdout",
     "output_type": "stream",
     "text": [
      "Train on 60000 samples, validate on 10000 samples\n",
      "Epoch 1/20\n",
      "60000/60000 [==============================] - 4s 67us/step - loss: 0.4890 - acc: 0.8559 - val_loss: 0.8223 - val_acc: 0.7690\n",
      "Epoch 2/20\n",
      "60000/60000 [==============================] - 3s 52us/step - loss: 0.3046 - acc: 0.9136 - val_loss: 0.6800 - val_acc: 0.8069\n",
      "Epoch 3/20\n",
      "60000/60000 [==============================] - 3s 52us/step - loss: 0.2873 - acc: 0.9194 - val_loss: 1.3266 - val_acc: 0.6626\n",
      "Epoch 4/20\n",
      "60000/60000 [==============================] - 3s 52us/step - loss: 0.2784 - acc: 0.9214 - val_loss: 1.2652 - val_acc: 0.6949\n",
      "Epoch 5/20\n",
      "60000/60000 [==============================] - 3s 52us/step - loss: 0.2724 - acc: 0.9234 - val_loss: 0.7312 - val_acc: 0.8170\n",
      "Epoch 6/20\n",
      "60000/60000 [==============================] - 3s 52us/step - loss: 0.2677 - acc: 0.9246 - val_loss: 2.0437 - val_acc: 0.5762\n",
      "Epoch 7/20\n",
      "60000/60000 [==============================] - 3s 52us/step - loss: 0.2664 - acc: 0.9250 - val_loss: 1.6328 - val_acc: 0.6136\n",
      "Epoch 8/20\n",
      "60000/60000 [==============================] - 3s 52us/step - loss: 0.2636 - acc: 0.9261 - val_loss: 8.1621 - val_acc: 0.3043\n",
      "Epoch 9/20\n",
      "60000/60000 [==============================] - 3s 52us/step - loss: 0.2629 - acc: 0.9260 - val_loss: 1.4145 - val_acc: 0.6829\n",
      "Epoch 10/20\n",
      "60000/60000 [==============================] - 3s 52us/step - loss: 0.2606 - acc: 0.9267 - val_loss: 3.2574 - val_acc: 0.5500\n",
      "Epoch 11/20\n",
      "60000/60000 [==============================] - 3s 52us/step - loss: 0.2575 - acc: 0.9282 - val_loss: 1.2263 - val_acc: 0.7405\n",
      "Epoch 12/20\n",
      "60000/60000 [==============================] - 3s 52us/step - loss: 0.2570 - acc: 0.9291 - val_loss: 0.6801 - val_acc: 0.8525\n",
      "Epoch 13/20\n",
      "60000/60000 [==============================] - 3s 52us/step - loss: 0.2564 - acc: 0.9275 - val_loss: 1.3066 - val_acc: 0.6563\n",
      "Epoch 14/20\n",
      "60000/60000 [==============================] - 3s 52us/step - loss: 0.2559 - acc: 0.9280 - val_loss: 1.2406 - val_acc: 0.6985\n",
      "Epoch 15/20\n",
      "60000/60000 [==============================] - 3s 52us/step - loss: 0.2552 - acc: 0.9277 - val_loss: 0.6215 - val_acc: 0.8638\n",
      "Epoch 16/20\n",
      "60000/60000 [==============================] - 3s 53us/step - loss: 0.2541 - acc: 0.9282 - val_loss: 2.2431 - val_acc: 0.5557\n",
      "Epoch 17/20\n",
      "60000/60000 [==============================] - 3s 52us/step - loss: 0.2526 - acc: 0.9285 - val_loss: 4.0150 - val_acc: 0.5063\n",
      "Epoch 18/20\n",
      "60000/60000 [==============================] - 3s 52us/step - loss: 0.2539 - acc: 0.9302 - val_loss: 1.2628 - val_acc: 0.6957\n",
      "Epoch 19/20\n",
      "60000/60000 [==============================] - 3s 53us/step - loss: 0.2513 - acc: 0.9294 - val_loss: 7.2882 - val_acc: 0.2021\n",
      "Epoch 20/20\n",
      "60000/60000 [==============================] - 3s 53us/step - loss: 0.2532 - acc: 0.9285 - val_loss: 0.6960 - val_acc: 0.8508\n"
     ]
    }
   ],
   "source": [
    "model_batch.compile(optimizer='adam', loss='categorical_crossentropy', \n",
    "                    metrics=['accuracy'])\n",
    "\n",
    "history22 = model_batch.fit(x_train, y_train, \n",
    "                           batch_size=batch_size,\n",
    "                           epochs=nb_epoch, verbose=1, \n",
    "                           validation_data=(x_test, y_test))"
   ]
  },
  {
   "cell_type": "code",
   "execution_count": 26,
   "metadata": {},
   "outputs": [
    {
     "name": "stdout",
     "output_type": "stream",
     "text": [
      "_________________________________________________________________\n",
      "Layer (type)                 Output Shape              Param #   \n",
      "=================================================================\n",
      "batch_normalization_8 (Batch (None, 784)               3136      \n",
      "_________________________________________________________________\n",
      "batch_normalization_9 (Batch (None, 784)               3136      \n",
      "_________________________________________________________________\n",
      "batch_normalization_10 (Batc (None, 784)               3136      \n",
      "_________________________________________________________________\n",
      "dense_21 (Dense)             (None, 10)                7850      \n",
      "=================================================================\n",
      "Total params: 17,258\n",
      "Trainable params: 12,554\n",
      "Non-trainable params: 4,704\n",
      "_________________________________________________________________\n"
     ]
    }
   ],
   "source": [
    "model_batch.summary()"
   ]
  },
  {
   "cell_type": "code",
   "execution_count": 27,
   "metadata": {
    "colab": {
     "base_uri": "https://localhost:8080/",
     "height": 52
    },
    "colab_type": "code",
    "executionInfo": {
     "elapsed": 1960,
     "status": "ok",
     "timestamp": 1547722100929,
     "user": {
      "displayName": "Priya G",
      "photoUrl": "https://lh5.googleusercontent.com/-ulFA1q-SBEw/AAAAAAAAAAI/AAAAAAAAAaU/81PbAjtRvqw/s64/photo.jpg",
      "userId": "05458747731883366595"
     },
     "user_tz": -330
    },
    "id": "HThyBcHUQKcn",
    "outputId": "6cfa9934-e51e-41b1-b7dc-760182c3e360"
   },
   "outputs": [
    {
     "name": "stdout",
     "output_type": "stream",
     "text": [
      "Test score: 0.6960192083239556\n",
      "Test accuracy: 0.8508\n"
     ]
    },
    {
     "data": {
      "image/png": "[encoded data removed]",
      "text/plain": [
       "<Figure size 432x288 with 1 Axes>"
      ]
     },
     "metadata": {},
     "output_type": "display_data"
    }
   ],
   "source": [
    "score = model_batch.evaluate(x_test, y_test, verbose=0) \n",
    "score9=score[0]\n",
    "score10=score[1]\n",
    "train_acc5=history11.history['acc']\n",
    "print('Test score:', score[0]) \n",
    "print('Test accuracy:', score[1])\n",
    "\n",
    "fig,ax22 = plt.subplots(1,1)\n",
    "ax22.set_xlabel('epoch') ; ax22.set_ylabel('Categorical Crossentropy Loss')\n",
    "\n",
    "# list of epoch numbers\n",
    "x = list(range(1,nb_epoch+1))\n",
    "\n",
    "vy22 = history22.history['val_loss']\n",
    "ty22 = history22.history['loss']\n",
    "plt_dynamic(x, vy22, ty22, ax22)"
   ]
  },
  {
   "cell_type": "markdown",
   "metadata": {
    "colab_type": "text",
    "id": "IWYP8-3pQKct"
   },
   "source": [
    "## 2.3 MLP + Dropout + AdamOptimizer "
   ]
  },
  {
   "cell_type": "code",
   "execution_count": 28,
   "metadata": {},
   "outputs": [],
   "source": [
    "# https://stackoverflow.com/questions/34716454/where-do-i-call-the-batchnormalization-function-in-keras\n",
    "\n",
    "from keras.layers import Dropout\n",
    "\n",
    "model_drop = Sequential()\n",
    "model_relu.add(Dense(352, activation='relu', input_shape=(input_dim,),\n",
    "                     kernel_initializer=he_normal(seed=None)))\n",
    "\n",
    "model_drop.add(BatchNormalization())\n",
    "model_drop.add(Dropout(0.5))\n",
    "model_relu.add(Dense(164, activation='relu', \n",
    "                     kernel_initializer=he_normal(seed=None)) )\n",
    "model_drop.add(BatchNormalization())\n",
    "model_drop.add(Dropout(0.5))\n",
    "\n",
    "                                                    \n",
    "model_relu.add(Dense(124, activation='relu', \n",
    "                     kernel_initializer=he_normal(seed=None)) )\n",
    "model_drop.add(BatchNormalization())\n",
    "model_drop.add(Dropout(0.5))\n",
    "\n",
    "model_drop.add(Dense(output_dim, activation='softmax'))\n",
    "\n",
    "\n"
   ]
  },
  {
   "cell_type": "code",
   "execution_count": 29,
   "metadata": {
    "colab": {
     "base_uri": "https://localhost:8080/",
     "height": 748
    },
    "colab_type": "code",
    "executionInfo": {
     "elapsed": 74942,
     "status": "ok",
     "timestamp": 1547722191083,
     "user": {
      "displayName": "Priya G",
      "photoUrl": "https://lh5.googleusercontent.com/-ulFA1q-SBEw/AAAAAAAAAAI/AAAAAAAAAaU/81PbAjtRvqw/s64/photo.jpg",
      "userId": "05458747731883366595"
     },
     "user_tz": -330
    },
    "id": "J5pc4W_9QKcw",
    "outputId": "7609a1ba-dd78-44ff-9906-1688b1e41fec"
   },
   "outputs": [
    {
     "name": "stdout",
     "output_type": "stream",
     "text": [
      "Train on 60000 samples, validate on 10000 samples\n",
      "Epoch 1/20\n",
      "60000/60000 [==============================] - 4s 73us/step - loss: 1.3624 - acc: 0.5675 - val_loss: 0.5117 - val_acc: 0.8760\n",
      "Epoch 2/20\n",
      "60000/60000 [==============================] - 3s 56us/step - loss: 0.8656 - acc: 0.7185 - val_loss: 0.4472 - val_acc: 0.8913\n",
      "Epoch 3/20\n",
      "60000/60000 [==============================] - 3s 56us/step - loss: 0.8441 - acc: 0.7262 - val_loss: 0.4391 - val_acc: 0.8962\n",
      "Epoch 4/20\n",
      "60000/60000 [==============================] - 3s 56us/step - loss: 0.8296 - acc: 0.7280 - val_loss: 0.4273 - val_acc: 0.8928\n",
      "Epoch 5/20\n",
      "60000/60000 [==============================] - 3s 56us/step - loss: 0.8278 - acc: 0.7296 - val_loss: 0.4224 - val_acc: 0.8943\n",
      "Epoch 6/20\n",
      "60000/60000 [==============================] - 3s 56us/step - loss: 0.8288 - acc: 0.7291 - val_loss: 0.4213 - val_acc: 0.8978\n",
      "Epoch 7/20\n",
      "60000/60000 [==============================] - 3s 56us/step - loss: 0.8293 - acc: 0.7306 - val_loss: 0.4187 - val_acc: 0.8945\n",
      "Epoch 8/20\n",
      "60000/60000 [==============================] - 3s 55us/step - loss: 0.8172 - acc: 0.7332 - val_loss: 0.4207 - val_acc: 0.8940\n",
      "Epoch 9/20\n",
      "60000/60000 [==============================] - 3s 56us/step - loss: 0.8207 - acc: 0.7344 - val_loss: 0.4140 - val_acc: 0.8981\n",
      "Epoch 10/20\n",
      "60000/60000 [==============================] - 3s 56us/step - loss: 0.8187 - acc: 0.7332 - val_loss: 0.4115 - val_acc: 0.8972\n",
      "Epoch 11/20\n",
      "60000/60000 [==============================] - 3s 56us/step - loss: 0.8115 - acc: 0.7365 - val_loss: 0.4126 - val_acc: 0.8920\n",
      "Epoch 12/20\n",
      "60000/60000 [==============================] - 3s 56us/step - loss: 0.8167 - acc: 0.7337 - val_loss: 0.4119 - val_acc: 0.8953\n",
      "Epoch 13/20\n",
      "60000/60000 [==============================] - 3s 56us/step - loss: 0.8166 - acc: 0.7349 - val_loss: 0.4081 - val_acc: 0.8979\n",
      "Epoch 14/20\n",
      "60000/60000 [==============================] - 3s 56us/step - loss: 0.8216 - acc: 0.7356 - val_loss: 0.4093 - val_acc: 0.8997\n",
      "Epoch 15/20\n",
      "60000/60000 [==============================] - 3s 56us/step - loss: 0.8193 - acc: 0.7368 - val_loss: 0.4048 - val_acc: 0.8976\n",
      "Epoch 16/20\n",
      "60000/60000 [==============================] - 3s 56us/step - loss: 0.8108 - acc: 0.7388 - val_loss: 0.4082 - val_acc: 0.8980\n",
      "Epoch 17/20\n",
      "60000/60000 [==============================] - 3s 55us/step - loss: 0.8070 - acc: 0.7393 - val_loss: 0.4074 - val_acc: 0.8965\n",
      "Epoch 18/20\n",
      "60000/60000 [==============================] - 3s 56us/step - loss: 0.8123 - acc: 0.7373 - val_loss: 0.4039 - val_acc: 0.8977\n",
      "Epoch 19/20\n",
      "60000/60000 [==============================] - 3s 56us/step - loss: 0.8093 - acc: 0.7388 - val_loss: 0.4032 - val_acc: 0.8983\n",
      "Epoch 20/20\n",
      "60000/60000 [==============================] - 3s 56us/step - loss: 0.8050 - acc: 0.7399 - val_loss: 0.4032 - val_acc: 0.8992\n"
     ]
    }
   ],
   "source": [
    "model_drop.compile(optimizer='adam',\n",
    "                   loss='categorical_crossentropy',\n",
    "                   metrics=['accuracy'])\n",
    "\n",
    "history23 = model_drop.fit(x_train, y_train,\n",
    "                         batch_size=batch_size,\n",
    "                         \n",
    "                         epochs=nb_epoch, verbose=1,\n",
    "                         validation_data=(x_test, y_test))"
   ]
  },
  {
   "cell_type": "code",
   "execution_count": 30,
   "metadata": {},
   "outputs": [
    {
     "name": "stdout",
     "output_type": "stream",
     "text": [
      "_________________________________________________________________\n",
      "Layer (type)                 Output Shape              Param #   \n",
      "=================================================================\n",
      "batch_normalization_11 (Batc (None, 784)               3136      \n",
      "_________________________________________________________________\n",
      "dropout_3 (Dropout)          (None, 784)               0         \n",
      "_________________________________________________________________\n",
      "batch_normalization_12 (Batc (None, 784)               3136      \n",
      "_________________________________________________________________\n",
      "dropout_4 (Dropout)          (None, 784)               0         \n",
      "_________________________________________________________________\n",
      "batch_normalization_13 (Batc (None, 784)               3136      \n",
      "_________________________________________________________________\n",
      "dropout_5 (Dropout)          (None, 784)               0         \n",
      "_________________________________________________________________\n",
      "dense_25 (Dense)             (None, 10)                7850      \n",
      "=================================================================\n",
      "Total params: 17,258\n",
      "Trainable params: 12,554\n",
      "Non-trainable params: 4,704\n",
      "_________________________________________________________________\n"
     ]
    }
   ],
   "source": [
    "model_drop.summary()"
   ]
  },
  {
   "cell_type": "code",
   "execution_count": 31,
   "metadata": {},
   "outputs": [
    {
     "name": "stdout",
     "output_type": "stream",
     "text": [
      "Test score: 0.40321056950092315\n",
      "Test accuracy: 0.8992\n"
     ]
    },
    {
     "data": {
      "image/png": "[encoded data removed]",
      "text/plain": [
       "<Figure size 432x288 with 1 Axes>"
      ]
     },
     "metadata": {},
     "output_type": "display_data"
    }
   ],
   "source": [
    "score = model_drop.evaluate(x_test, y_test, verbose=0)\n",
    "score11=score[0]\n",
    "score12=score[1]\n",
    "train_acc6=history11.history['acc']\n",
    "print('Test score:', score[0]) \n",
    "print('Test accuracy:', score[1])\n",
    "\n",
    "fig,ax23 = plt.subplots(1,1)\n",
    "ax23.set_xlabel('epoch') ; ax23.set_ylabel('Categorical Crossentropy Loss')\n",
    "\n",
    "# list of epoch numbers\n",
    "x = list(range(1,nb_epoch+1))\n",
    "\n",
    "\n",
    "vy23 = history23.history['val_loss']\n",
    "ty23 = history23.history['loss']\n",
    "plt_dynamic(x, vy23, ty23, ax23)"
   ]
  },
  {
   "cell_type": "markdown",
   "metadata": {
    "colab": {
     "base_uri": "https://localhost:8080/",
     "height": 107
    },
    "colab_type": "code",
    "executionInfo": {
     "elapsed": 68026,
     "status": "ok",
     "timestamp": 1547722194325,
     "user": {
      "displayName": "Priya G",
      "photoUrl": "https://lh5.googleusercontent.com/-ulFA1q-SBEw/AAAAAAAAAAI/AAAAAAAAAaU/81PbAjtRvqw/s64/photo.jpg",
      "userId": "05458747731883366595"
     },
     "user_tz": -330
    },
    "id": "U2N2u7xoQKc2",
    "outputId": "9a2538a2-036b-44a0-ca2f-a016bdfe7d46"
   },
   "source": [
    "# 3) 5-Hidden layer architecture (784-216-170-136-80-38-10 architecture)"
   ]
  },
  {
   "cell_type": "markdown",
   "metadata": {},
   "source": [
    "## 3.1  MLP + ReLU + ADAM "
   ]
  },
  {
   "cell_type": "code",
   "execution_count": 33,
   "metadata": {},
   "outputs": [
    {
     "name": "stdout",
     "output_type": "stream",
     "text": [
      "_________________________________________________________________\n",
      "Layer (type)                 Output Shape              Param #   \n",
      "=================================================================\n",
      "dense_32 (Dense)             (None, 216)               169560    \n",
      "_________________________________________________________________\n",
      "dense_33 (Dense)             (None, 170)               36890     \n",
      "_________________________________________________________________\n",
      "dense_34 (Dense)             (None, 136)               23256     \n",
      "_________________________________________________________________\n",
      "dense_35 (Dense)             (None, 80)                10960     \n",
      "_________________________________________________________________\n",
      "dense_36 (Dense)             (None, 38)                3078      \n",
      "_________________________________________________________________\n",
      "dense_37 (Dense)             (None, 10)                390       \n",
      "=================================================================\n",
      "Total params: 244,134\n",
      "Trainable params: 244,134\n",
      "Non-trainable params: 0\n",
      "_________________________________________________________________\n",
      "None\n",
      "Train on 60000 samples, validate on 10000 samples\n",
      "Epoch 1/20\n",
      "60000/60000 [==============================] - 3s 53us/step - loss: 0.2755 - acc: 0.9179 - val_loss: 0.1245 - val_acc: 0.9616\n",
      "Epoch 2/20\n",
      "60000/60000 [==============================] - 2s 41us/step - loss: 0.1043 - acc: 0.9681 - val_loss: 0.1133 - val_acc: 0.9654\n",
      "Epoch 3/20\n",
      "60000/60000 [==============================] - 2s 41us/step - loss: 0.0731 - acc: 0.9773 - val_loss: 0.0926 - val_acc: 0.9729\n",
      "Epoch 4/20\n",
      "60000/60000 [==============================] - 2s 41us/step - loss: 0.0552 - acc: 0.9824 - val_loss: 0.0833 - val_acc: 0.9762\n",
      "Epoch 5/20\n",
      "60000/60000 [==============================] - 2s 41us/step - loss: 0.0432 - acc: 0.9857 - val_loss: 0.0780 - val_acc: 0.9764\n",
      "Epoch 6/20\n",
      "60000/60000 [==============================] - 2s 41us/step - loss: 0.0349 - acc: 0.9882 - val_loss: 0.0838 - val_acc: 0.9736\n",
      "Epoch 7/20\n",
      "60000/60000 [==============================] - 2s 41us/step - loss: 0.0308 - acc: 0.9897 - val_loss: 0.1178 - val_acc: 0.9668\n",
      "Epoch 8/20\n",
      "60000/60000 [==============================] - 2s 41us/step - loss: 0.0267 - acc: 0.9912 - val_loss: 0.0904 - val_acc: 0.9755\n",
      "Epoch 9/20\n",
      "60000/60000 [==============================] - 2s 41us/step - loss: 0.0236 - acc: 0.9924 - val_loss: 0.0814 - val_acc: 0.9793\n",
      "Epoch 10/20\n",
      "60000/60000 [==============================] - 2s 41us/step - loss: 0.0224 - acc: 0.9930 - val_loss: 0.0928 - val_acc: 0.9777\n",
      "Epoch 11/20\n",
      "60000/60000 [==============================] - 2s 41us/step - loss: 0.0202 - acc: 0.9935 - val_loss: 0.0894 - val_acc: 0.9774\n",
      "Epoch 12/20\n",
      "60000/60000 [==============================] - 2s 41us/step - loss: 0.0193 - acc: 0.9936 - val_loss: 0.0859 - val_acc: 0.9809\n",
      "Epoch 13/20\n",
      "60000/60000 [==============================] - 2s 41us/step - loss: 0.0143 - acc: 0.9954 - val_loss: 0.0868 - val_acc: 0.9795\n",
      "Epoch 14/20\n",
      "60000/60000 [==============================] - 2s 41us/step - loss: 0.0180 - acc: 0.9942 - val_loss: 0.0873 - val_acc: 0.9806\n",
      "Epoch 15/20\n",
      "60000/60000 [==============================] - 2s 41us/step - loss: 0.0160 - acc: 0.9952 - val_loss: 0.1039 - val_acc: 0.9770\n",
      "Epoch 16/20\n",
      "60000/60000 [==============================] - 2s 41us/step - loss: 0.0145 - acc: 0.9951 - val_loss: 0.0803 - val_acc: 0.9793\n",
      "Epoch 17/20\n",
      "60000/60000 [==============================] - 2s 41us/step - loss: 0.0132 - acc: 0.9956 - val_loss: 0.0820 - val_acc: 0.9812\n",
      "Epoch 18/20\n",
      "60000/60000 [==============================] - 2s 41us/step - loss: 0.0129 - acc: 0.9959 - val_loss: 0.0982 - val_acc: 0.9794\n",
      "Epoch 19/20\n",
      "60000/60000 [==============================] - 2s 41us/step - loss: 0.0115 - acc: 0.9962 - val_loss: 0.1187 - val_acc: 0.9754\n",
      "Epoch 20/20\n",
      "60000/60000 [==============================] - 2s 41us/step - loss: 0.0120 - acc: 0.9961 - val_loss: 0.0872 - val_acc: 0.9816\n"
     ]
    }
   ],
   "source": [
    "model_relu = Sequential()\n",
    "model_relu.add(Dense(216, activation='relu', input_shape=(input_dim,),\n",
    "                     kernel_initializer=he_normal(seed=None)))\n",
    "model_relu.add(Dense(170, activation='relu', \n",
    "                     kernel_initializer=he_normal(seed=None)) )\n",
    "                                                    \n",
    "model_relu.add(Dense(136, activation='relu', \n",
    "                     kernel_initializer=he_normal(seed=None)) )\n",
    "model_relu.add(Dense(80, activation='relu', \n",
    "                     kernel_initializer=he_normal(seed=None)) )\n",
    "                                                    \n",
    "model_relu.add(Dense(38, activation='relu', \n",
    "                     kernel_initializer=he_normal(seed=None)) )\n",
    "model_relu.add(Dense(output_dim, activation='softmax'))\n",
    "\n",
    "print(model_relu.summary())\n",
    "\n",
    "model_relu.compile(optimizer='adam',\n",
    "                   loss='categorical_crossentropy',\n",
    "                   metrics=['accuracy'])\n",
    "\n",
    "history31 = model_relu.fit(x_train, y_train, \n",
    "                         batch_size=batch_size, \n",
    "                         epochs=nb_epoch, verbose=1, \n",
    "                         validation_data=(x_test, y_test))"
   ]
  },
  {
   "cell_type": "code",
   "execution_count": null,
   "metadata": {},
   "outputs": [],
   "source": []
  },
  {
   "cell_type": "code",
   "execution_count": 34,
   "metadata": {},
   "outputs": [
    {
     "name": "stdout",
     "output_type": "stream",
     "text": [
      "Test score: 0.08723179607167986\n",
      "Test accuracy: 0.9816\n"
     ]
    },
    {
     "data": {
      "image/png": "[encoded data removed]",
      "text/plain": [
       "<Figure size 432x288 with 1 Axes>"
      ]
     },
     "metadata": {},
     "output_type": "display_data"
    }
   ],
   "source": [
    "score = model_relu.evaluate(x_test, y_test, verbose=0) \n",
    "score13=score[0]\n",
    "score14=score[1]\n",
    "train_acc7=history11.history['acc']\n",
    "print('Test score:', score[0]) \n",
    "print('Test accuracy:', score[1])\n",
    "\n",
    "fig,ax31 = plt.subplots(1,1)\n",
    "ax31.set_xlabel('epoch') ; ax31.set_ylabel('Categorical Crossentropy Loss')\n",
    "\n",
    "# list of epoch numbers\n",
    "x = list(range(1,nb_epoch+1))\n",
    "\n",
    "\n",
    "vy31 = history31.history['val_loss']\n",
    "ty31 = history31.history['loss']\n",
    "plt_dynamic(x, vy31, ty31, ax31)\n"
   ]
  },
  {
   "cell_type": "markdown",
   "metadata": {
    "colab_type": "text",
    "id": "TjduBU7hQKch"
   },
   "source": [
    "<h2> 3.2 MLP + Batch-Norm on hidden Layers + AdamOptimizer </2>"
   ]
  },
  {
   "cell_type": "code",
   "execution_count": 35,
   "metadata": {},
   "outputs": [],
   "source": [
    "\n",
    "\n",
    "from keras.layers.normalization import BatchNormalization\n",
    "\n",
    "model_batch = Sequential()\n",
    "\n",
    "model_relu.add(Dense(216, activation='relu', input_shape=(input_dim,),\n",
    "                     kernel_initializer=he_normal(seed=None)))\n",
    "model_batch.add(BatchNormalization())\n",
    "model_relu.add(Dense(170, activation='relu', \n",
    "                     kernel_initializer=he_normal(seed=None)) )\n",
    "model_batch.add(BatchNormalization())\n",
    "                                                    \n",
    "model_relu.add(Dense(136, activation='relu', \n",
    "                     kernel_initializer=he_normal(seed=None)) )\n",
    "model_batch.add(BatchNormalization())\n",
    "model_relu.add(Dense(80, activation='relu', \n",
    "                     kernel_initializer=he_normal(seed=None)) )\n",
    "model_batch.add(BatchNormalization())\n",
    "                                                    \n",
    "model_relu.add(Dense(38, activation='relu', \n",
    "                     kernel_initializer=he_normal(seed=None)) )\n",
    "model_batch.add(BatchNormalization())\n",
    "\n",
    "model_batch.add(Dense(output_dim, activation='softmax'))\n",
    "\n"
   ]
  },
  {
   "cell_type": "code",
   "execution_count": 36,
   "metadata": {},
   "outputs": [
    {
     "name": "stdout",
     "output_type": "stream",
     "text": [
      "Train on 60000 samples, validate on 10000 samples\n",
      "Epoch 1/20\n",
      "60000/60000 [==============================] - 6s 96us/step - loss: 0.4860 - acc: 0.8559 - val_loss: 14.5498 - val_acc: 0.0973\n",
      "Epoch 2/20\n",
      "60000/60000 [==============================] - 4s 71us/step - loss: 0.3060 - acc: 0.9119 - val_loss: 14.5482 - val_acc: 0.0974\n",
      "Epoch 3/20\n",
      "60000/60000 [==============================] - 4s 71us/step - loss: 0.2868 - acc: 0.9190 - val_loss: 14.2799 - val_acc: 0.1140\n",
      "Epoch 4/20\n",
      "60000/60000 [==============================] - 4s 71us/step - loss: 0.2793 - acc: 0.9210 - val_loss: 14.2871 - val_acc: 0.1136\n",
      "Epoch 5/20\n",
      "60000/60000 [==============================] - 4s 71us/step - loss: 0.2719 - acc: 0.9233 - val_loss: 14.5417 - val_acc: 0.0978\n",
      "Epoch 6/20\n",
      "60000/60000 [==============================] - 4s 71us/step - loss: 0.2689 - acc: 0.9239 - val_loss: 14.4837 - val_acc: 0.1014\n",
      "Epoch 7/20\n",
      "60000/60000 [==============================] - 4s 71us/step - loss: 0.2641 - acc: 0.9253 - val_loss: 14.5530 - val_acc: 0.0971\n",
      "Epoch 8/20\n",
      "60000/60000 [==============================] - 4s 71us/step - loss: 0.2616 - acc: 0.9276 - val_loss: 14.2758 - val_acc: 0.1143\n",
      "Epoch 9/20\n",
      "60000/60000 [==============================] - 4s 71us/step - loss: 0.2613 - acc: 0.9268 - val_loss: 14.2887 - val_acc: 0.1135\n",
      "Epoch 10/20\n",
      "60000/60000 [==============================] - 4s 72us/step - loss: 0.2600 - acc: 0.9268 - val_loss: 14.4515 - val_acc: 0.1034\n",
      "Epoch 11/20\n",
      "60000/60000 [==============================] - 4s 71us/step - loss: 0.2574 - acc: 0.9276 - val_loss: 14.2855 - val_acc: 0.1137\n",
      "Epoch 12/20\n",
      "60000/60000 [==============================] - 4s 71us/step - loss: 0.2575 - acc: 0.9277 - val_loss: 14.2822 - val_acc: 0.1139\n",
      "Epoch 13/20\n",
      "60000/60000 [==============================] - 4s 71us/step - loss: 0.2564 - acc: 0.9284 - val_loss: 14.2871 - val_acc: 0.1136\n",
      "Epoch 14/20\n",
      "60000/60000 [==============================] - 4s 72us/step - loss: 0.2552 - acc: 0.9279 - val_loss: 14.5514 - val_acc: 0.0972\n",
      "Epoch 15/20\n",
      "60000/60000 [==============================] - 4s 71us/step - loss: 0.2552 - acc: 0.9284 - val_loss: 14.5434 - val_acc: 0.0977\n",
      "Epoch 16/20\n",
      "60000/60000 [==============================] - 4s 71us/step - loss: 0.2551 - acc: 0.9282 - val_loss: 14.5401 - val_acc: 0.0979\n",
      "Epoch 17/20\n",
      "60000/60000 [==============================] - 4s 72us/step - loss: 0.2542 - acc: 0.9289 - val_loss: 14.5691 - val_acc: 0.0961\n",
      "Epoch 18/20\n",
      "60000/60000 [==============================] - 4s 71us/step - loss: 0.2521 - acc: 0.9290 - val_loss: 14.5514 - val_acc: 0.0972\n",
      "Epoch 19/20\n",
      "60000/60000 [==============================] - 4s 71us/step - loss: 0.2533 - acc: 0.9290 - val_loss: 14.2774 - val_acc: 0.1142\n",
      "Epoch 20/20\n",
      "60000/60000 [==============================] - 4s 71us/step - loss: 0.2514 - acc: 0.9294 - val_loss: 14.5482 - val_acc: 0.0974\n"
     ]
    }
   ],
   "source": [
    "model_batch.compile(optimizer='adam', loss='categorical_crossentropy', \n",
    "                    metrics=['accuracy'])\n",
    "\n",
    "history32 = model_batch.fit(x_train, y_train, \n",
    "                           batch_size=batch_size,\n",
    "                           epochs=nb_epoch, verbose=1, \n",
    "                           validation_data=(x_test, y_test))"
   ]
  },
  {
   "cell_type": "code",
   "execution_count": 37,
   "metadata": {},
   "outputs": [
    {
     "name": "stdout",
     "output_type": "stream",
     "text": [
      "_________________________________________________________________\n",
      "Layer (type)                 Output Shape              Param #   \n",
      "=================================================================\n",
      "batch_normalization_14 (Batc (None, 784)               3136      \n",
      "_________________________________________________________________\n",
      "batch_normalization_15 (Batc (None, 784)               3136      \n",
      "_________________________________________________________________\n",
      "batch_normalization_16 (Batc (None, 784)               3136      \n",
      "_________________________________________________________________\n",
      "batch_normalization_17 (Batc (None, 784)               3136      \n",
      "_________________________________________________________________\n",
      "batch_normalization_18 (Batc (None, 784)               3136      \n",
      "_________________________________________________________________\n",
      "dense_43 (Dense)             (None, 10)                7850      \n",
      "=================================================================\n",
      "Total params: 23,530\n",
      "Trainable params: 15,690\n",
      "Non-trainable params: 7,840\n",
      "_________________________________________________________________\n"
     ]
    }
   ],
   "source": [
    "\n",
    "model_batch.summary()"
   ]
  },
  {
   "cell_type": "code",
   "execution_count": 39,
   "metadata": {},
   "outputs": [
    {
     "name": "stdout",
     "output_type": "stream",
     "text": [
      "Test score: 14.548192663574218\n",
      "Test accuracy: 0.0974\n"
     ]
    },
    {
     "data": {
      "image/png": "[encoded data removed]",
      "text/plain": [
       "<Figure size 432x288 with 1 Axes>"
      ]
     },
     "metadata": {},
     "output_type": "display_data"
    }
   ],
   "source": [
    "score = model_batch.evaluate(x_test, y_test, verbose=0) \n",
    "score15=score[0]\n",
    "score16=score[1]\n",
    "train_acc8=history32.history['acc']\n",
    "print('Test score:', score[0]) \n",
    "print('Test accuracy:', score[1])\n",
    "\n",
    "fig,ax32 = plt.subplots(1,1)\n",
    "ax32.set_xlabel('epoch') ; ax32.set_ylabel('Categorical Crossentropy Loss')\n",
    "\n",
    "# list of epoch numbers\n",
    "x = list(range(1,nb_epoch+1))\n",
    "\n",
    "vy32 = history32.history['val_loss']\n",
    "ty32 = history32.history['loss']\n",
    "plt_dynamic(x, vy32, ty32, ax32)"
   ]
  },
  {
   "cell_type": "markdown",
   "metadata": {
    "colab_type": "text",
    "id": "IWYP8-3pQKct"
   },
   "source": [
    "## 3.3 MLP + Dropout + AdamOptimizer "
   ]
  },
  {
   "cell_type": "code",
   "execution_count": 40,
   "metadata": {},
   "outputs": [],
   "source": [
    "# https://stackoverflow.com/questions/34716454/where-do-i-call-the-batchnormalization-function-in-keras\n",
    "\n",
    "from keras.layers import Dropout\n",
    "\n",
    "model_drop = Sequential()\n",
    "model_relu.add(Dense(216, activation='relu', input_shape=(input_dim,),\n",
    "                     kernel_initializer=he_normal(seed=None)))\n",
    "model_drop.add(BatchNormalization())\n",
    "model_drop.add(Dropout(0.5))\n",
    "model_relu.add(Dense(170, activation='relu', \n",
    "                     kernel_initializer=he_normal(seed=None)) )\n",
    "model_drop.add(BatchNormalization())\n",
    "model_drop.add(Dropout(0.5))\n",
    "                                                    \n",
    "model_relu.add(Dense(136, activation='relu', \n",
    "                     kernel_initializer=he_normal(seed=None)) )\n",
    "model_drop.add(BatchNormalization())\n",
    "model_drop.add(Dropout(0.5))\n",
    "model_relu.add(Dense(80, activation='relu', \n",
    "                     kernel_initializer=he_normal(seed=None)) )\n",
    "model_drop.add(BatchNormalization())\n",
    "model_drop.add(Dropout(0.5))\n",
    "                                                    \n",
    "model_relu.add(Dense(38, activation='relu', \n",
    "                     kernel_initializer=he_normal(seed=None)) )\n",
    "model_drop.add(BatchNormalization())\n",
    "model_drop.add(Dropout(0.5))\n",
    "\n",
    "model_drop.add(Dense(output_dim, activation='softmax'))\n",
    "\n",
    "\n"
   ]
  },
  {
   "cell_type": "code",
   "execution_count": 41,
   "metadata": {
    "colab": {
     "base_uri": "https://localhost:8080/",
     "height": 748
    },
    "colab_type": "code",
    "executionInfo": {
     "elapsed": 74942,
     "status": "ok",
     "timestamp": 1547722191083,
     "user": {
      "displayName": "Priya G",
      "photoUrl": "https://lh5.googleusercontent.com/-ulFA1q-SBEw/AAAAAAAAAAI/AAAAAAAAAaU/81PbAjtRvqw/s64/photo.jpg",
      "userId": "05458747731883366595"
     },
     "user_tz": -330
    },
    "id": "J5pc4W_9QKcw",
    "outputId": "7609a1ba-dd78-44ff-9906-1688b1e41fec"
   },
   "outputs": [
    {
     "name": "stdout",
     "output_type": "stream",
     "text": [
      "Train on 60000 samples, validate on 10000 samples\n",
      "Epoch 1/20\n",
      "60000/60000 [==============================] - 6s 106us/step - loss: 2.1378 - acc: 0.3107 - val_loss: 1.0547 - val_acc: 0.8325\n",
      "Epoch 2/20\n",
      "60000/60000 [==============================] - 5s 76us/step - loss: 1.6071 - acc: 0.4430 - val_loss: 0.9704 - val_acc: 0.8447\n",
      "Epoch 3/20\n",
      "60000/60000 [==============================] - 5s 77us/step - loss: 1.5920 - acc: 0.4488 - val_loss: 0.9579 - val_acc: 0.8452\n",
      "Epoch 4/20\n",
      "60000/60000 [==============================] - 5s 77us/step - loss: 1.5923 - acc: 0.4474 - val_loss: 0.9549 - val_acc: 0.8456\n",
      "Epoch 5/20\n",
      "60000/60000 [==============================] - 5s 76us/step - loss: 1.5842 - acc: 0.4502 - val_loss: 0.9419 - val_acc: 0.8458\n",
      "Epoch 6/20\n",
      "60000/60000 [==============================] - 5s 76us/step - loss: 1.5851 - acc: 0.4478 - val_loss: 0.9492 - val_acc: 0.8455\n",
      "Epoch 7/20\n",
      "60000/60000 [==============================] - 5s 76us/step - loss: 1.5809 - acc: 0.4495 - val_loss: 0.9455 - val_acc: 0.8507\n",
      "Epoch 8/20\n",
      "60000/60000 [==============================] - 5s 77us/step - loss: 1.5809 - acc: 0.4507 - val_loss: 0.9446 - val_acc: 0.8530\n",
      "Epoch 9/20\n",
      "60000/60000 [==============================] - 5s 76us/step - loss: 1.5800 - acc: 0.4545 - val_loss: 0.9391 - val_acc: 0.8507\n",
      "Epoch 10/20\n",
      "60000/60000 [==============================] - 5s 76us/step - loss: 1.5730 - acc: 0.4524 - val_loss: 0.9367 - val_acc: 0.8446\n",
      "Epoch 11/20\n",
      "60000/60000 [==============================] - 5s 76us/step - loss: 1.5697 - acc: 0.4563 - val_loss: 0.9396 - val_acc: 0.8498\n",
      "Epoch 12/20\n",
      "60000/60000 [==============================] - 5s 76us/step - loss: 1.5773 - acc: 0.4530 - val_loss: 0.9417 - val_acc: 0.8515\n",
      "Epoch 13/20\n",
      "60000/60000 [==============================] - 5s 76us/step - loss: 1.5672 - acc: 0.4578 - val_loss: 0.9393 - val_acc: 0.8496\n",
      "Epoch 14/20\n",
      "60000/60000 [==============================] - 5s 76us/step - loss: 1.5659 - acc: 0.4565 - val_loss: 0.9358 - val_acc: 0.8436\n",
      "Epoch 15/20\n",
      "60000/60000 [==============================] - 5s 76us/step - loss: 1.5699 - acc: 0.4541 - val_loss: 0.9395 - val_acc: 0.8475\n",
      "Epoch 16/20\n",
      "60000/60000 [==============================] - 5s 76us/step - loss: 1.5641 - acc: 0.4596 - val_loss: 0.9332 - val_acc: 0.8458\n",
      "Epoch 17/20\n",
      "60000/60000 [==============================] - 5s 76us/step - loss: 1.5722 - acc: 0.4563 - val_loss: 0.9375 - val_acc: 0.8522\n",
      "Epoch 18/20\n",
      "60000/60000 [==============================] - 5s 76us/step - loss: 1.5593 - acc: 0.4602 - val_loss: 0.9359 - val_acc: 0.8533\n",
      "Epoch 19/20\n",
      "60000/60000 [==============================] - 5s 77us/step - loss: 1.5578 - acc: 0.4607 - val_loss: 0.9285 - val_acc: 0.8512\n",
      "Epoch 20/20\n",
      "60000/60000 [==============================] - 5s 77us/step - loss: 1.5583 - acc: 0.4602 - val_loss: 0.9346 - val_acc: 0.8529\n"
     ]
    }
   ],
   "source": [
    "model_drop.compile(optimizer='adam',\n",
    "                   loss='categorical_crossentropy',\n",
    "                   metrics=['accuracy'])\n",
    "\n",
    "history33 = model_drop.fit(x_train, y_train,\n",
    "                         batch_size=batch_size,\n",
    "                         \n",
    "                         epochs=nb_epoch, verbose=1,\n",
    "                         validation_data=(x_test, y_test))"
   ]
  },
  {
   "cell_type": "code",
   "execution_count": 42,
   "metadata": {},
   "outputs": [
    {
     "name": "stdout",
     "output_type": "stream",
     "text": [
      "_________________________________________________________________\n",
      "Layer (type)                 Output Shape              Param #   \n",
      "=================================================================\n",
      "batch_normalization_19 (Batc (None, 784)               3136      \n",
      "_________________________________________________________________\n",
      "dropout_6 (Dropout)          (None, 784)               0         \n",
      "_________________________________________________________________\n",
      "batch_normalization_20 (Batc (None, 784)               3136      \n",
      "_________________________________________________________________\n",
      "dropout_7 (Dropout)          (None, 784)               0         \n",
      "_________________________________________________________________\n",
      "batch_normalization_21 (Batc (None, 784)               3136      \n",
      "_________________________________________________________________\n",
      "dropout_8 (Dropout)          (None, 784)               0         \n",
      "_________________________________________________________________\n",
      "batch_normalization_22 (Batc (None, 784)               3136      \n",
      "_________________________________________________________________\n",
      "dropout_9 (Dropout)          (None, 784)               0         \n",
      "_________________________________________________________________\n",
      "batch_normalization_23 (Batc (None, 784)               3136      \n",
      "_________________________________________________________________\n",
      "dropout_10 (Dropout)         (None, 784)               0         \n",
      "_________________________________________________________________\n",
      "dense_49 (Dense)             (None, 10)                7850      \n",
      "=================================================================\n",
      "Total params: 23,530\n",
      "Trainable params: 15,690\n",
      "Non-trainable params: 7,840\n",
      "_________________________________________________________________\n"
     ]
    }
   ],
   "source": [
    "model_drop.summary()"
   ]
  },
  {
   "cell_type": "code",
   "execution_count": 43,
   "metadata": {},
   "outputs": [
    {
     "name": "stdout",
     "output_type": "stream",
     "text": [
      "Test score: 0.9346290021896362\n",
      "Test accuracy: 0.8529\n"
     ]
    },
    {
     "data": {
      "image/png": "[encoded data removed]",
      "text/plain": [
       "<Figure size 432x288 with 1 Axes>"
      ]
     },
     "metadata": {},
     "output_type": "display_data"
    }
   ],
   "source": [
    "score = model_drop.evaluate(x_test, y_test, verbose=0) \n",
    "score17=score[0]\n",
    "score18=score[1]\n",
    "train_acc9=history33.history['acc']\n",
    "print('Test score:', score[0]) \n",
    "print('Test accuracy:', score[1])\n",
    "\n",
    "fig,ax33 = plt.subplots(1,1)\n",
    "ax33.set_xlabel('epoch') ; ax33.set_ylabel('Categorical Crossentropy Loss')\n",
    "\n",
    "# list of epoch numbers\n",
    "x = list(range(1,nb_epoch+1))\n",
    "\n",
    "\n",
    "vy33 = history33.history['val_loss']\n",
    "ty33 = history33.history['loss']\n",
    "plt_dynamic(x, vy33, ty33, ax33)"
   ]
  },
  {
   "cell_type": "markdown",
   "metadata": {},
   "source": [
    "# Final observation:"
   ]
  },
  {
   "cell_type": "code",
   "execution_count": 44,
   "metadata": {},
   "outputs": [],
   "source": [
    "from prettytable import PrettyTable"
   ]
  },
  {
   "cell_type": "code",
   "execution_count": 45,
   "metadata": {},
   "outputs": [],
   "source": [
    "models=['2_hidden_layer MLP+ReLu+Adam',\n",
    "        '2_hidden_layer MLP+Relu+adam+BN',\n",
    "        '2_hidden_layer MLP+reLu+Adam+BN+Drop-out',\n",
    "       '3_hidden_layer MLP+ReLu+Adam',\n",
    "        '3_hidden_layer MLP+Relu+adam+BN',\n",
    "        '3_hidden_layer MLP+reLu+Adam+BN+Drop-out',\n",
    "       '5_hidden_layer MLP+ReLu+Adam',\n",
    "        '5_hidden_layer MLP+Relu+adam+BN',\n",
    "        '5_hidden_layer MLP+reLu+Adam+BN+Drop-out']"
   ]
  },
  {
   "cell_type": "code",
   "execution_count": 46,
   "metadata": {},
   "outputs": [],
   "source": [
    "training_accuracy=[train_acc1,train_acc2,train_acc3,train_acc4,\n",
    "                   train_acc5,train_acc6,train_acc7,train_acc8,\n",
    "                   train_acc9\n",
    "                   \n",
    "                  ]"
   ]
  },
  {
   "cell_type": "code",
   "execution_count": 47,
   "metadata": {},
   "outputs": [],
   "source": [
    "test_score=[score1,score3,score5,score7,score9,score11,score13,score15,\n",
    "           score17]"
   ]
  },
  {
   "cell_type": "code",
   "execution_count": 48,
   "metadata": {},
   "outputs": [],
   "source": [
    "test_accuracy=[score2,score4,score6,score8,score10,score12,score14,\n",
    "              score16,\n",
    "              score18]\n",
    "INDEX = [1,2,3,4,5,6,7,8,9]"
   ]
  },
  {
   "cell_type": "code",
   "execution_count": null,
   "metadata": {},
   "outputs": [],
   "source": [
    "# Initializing prettytable\n",
    "Model_Performance = PrettyTable()\n",
    "# Adding columns\n",
    "Model_Performance.add_column(\"INDEX.\",INDEX)\n",
    "Model_Performance.add_column(\"MODEL_NAME\",models)\n",
    "Model_Performance.add_column(\"TRAINING ACCURACY\",training_accuracy)\n",
    "Model_Performance.add_column(\"TESTING ACCURACY\",test_accuracy)\n",
    "Model_Performance.add_column(\"TEST SCORE\",test_score)\n",
    "\n",
    "# Printing the Model_Performance\n",
    "print(Model_Performance)"
   ]
  },
  {
   "cell_type": "markdown",
   "metadata": {},
   "source": [
    "+--------+------------------------------------------+------------------------------------------------------------------------------------------------------------------------------------------------------------------------------------------------------------------------------------------------------------------------------------------------------------------------------------------------------------------------------------------------------------------+------------------+---------------------+\n",
    "| INDEX. |                MODEL_NAME                |                                                                                                                                                                                                TRAINING ACCURACY                                                                                                                                                                                                 | TESTING ACCURACY |      TEST SCORE     |\n",
    "+--------+------------------------------------------+------------------------------------------------------------------------------------------------------------------------------------------------------------------------------------------------------------------------------------------------------------------------------------------------------------------------------------------------------------------------------------------------------------------+------------------+---------------------+\n",
    "|   1    |       2_hidden_layer MLP+ReLu+Adam       |  0.9974 |      0.9824      |  0.0804028440125881 |\n",
    "|   2    |     2_hidden_layer MLP+Relu+adam+BN      |  0.9974|      0.9797      | 0.07902511259189378 |\n",
    "|   3    | 2_hidden_layer MLP+reLu+Adam+BN+Drop-out |   0.9974 |      0.982       | 0.06363873664251878 |\n",
    "|   4    |       3_hidden_layer MLP+ReLu+Adam       | 0.9974 |      0.9801      |  0.0930518318862476 |\n",
    "|   5    |     3_hidden_layer MLP+Relu+adam+BN      | 0.9974|      0.8508      |  0.6960192083239556 |\n",
    "|   6    | 3_hidden_layer MLP+reLu+Adam+BN+Drop-out | 0.9974 |      0.8992      | 0.40321056950092315 |\n",
    "|   7    |       5_hidden_layer MLP+ReLu+Adam       | 0.9974 |      0.9816      | 0.08723179607167986 |\n",
    "|   8    |     5_hidden_layer MLP+Relu+adam+BN      | 0.9293    |      0.974      |  14.548192663574218 |\n",
    "|   9    | 5_hidden_layer MLP+reLu+Adam+BN+Drop-out |  0.9345 |      0.8529      |  0.9346290021896362 |\n",
    "+--------+------------------------------------------+------------------------------------------------------------------------------------------------------------------------------------------------------------------------------------------------------------------------------------------------------------------------------------------------------------------------------------------------------------------------------------------------------------------+------------------+---------------------+"
   ]
  },
  {
   "cell_type": "code",
   "execution_count": null,
   "metadata": {},
   "outputs": [],
   "source": []
  },
  {
   "cell_type": "code",
   "execution_count": null,
   "metadata": {},
   "outputs": [],
   "source": []
  },
  {
   "cell_type": "code",
   "execution_count": null,
   "metadata": {},
   "outputs": [],
   "source": []
  },
  {
   "cell_type": "code",
   "execution_count": null,
   "metadata": {},
   "outputs": [],
   "source": []
  },
  {
   "cell_type": "code",
   "execution_count": null,
   "metadata": {},
   "outputs": [],
   "source": []
  },
  {
   "cell_type": "code",
   "execution_count": null,
   "metadata": {},
   "outputs": [],
   "source": []
  },
  {
   "cell_type": "code",
   "execution_count": null,
   "metadata": {},
   "outputs": [],
   "source": []
  },
  {
   "cell_type": "code",
   "execution_count": null,
   "metadata": {},
   "outputs": [],
   "source": []
  },
  {
   "cell_type": "code",
   "execution_count": null,
   "metadata": {},
   "outputs": [],
   "source": []
  },
  {
   "cell_type": "code",
   "execution_count": null,
   "metadata": {},
   "outputs": [],
   "source": []
  },
  {
   "cell_type": "code",
   "execution_count": null,
   "metadata": {},
   "outputs": [],
   "source": []
  },
  {
   "cell_type": "code",
   "execution_count": null,
   "metadata": {},
   "outputs": [],
   "source": []
  },
  {
   "cell_type": "code",
   "execution_count": null,
   "metadata": {},
   "outputs": [],
   "source": []
  },
  {
   "cell_type": "code",
   "execution_count": null,
   "metadata": {},
   "outputs": [],
   "source": []
  },
  {
   "cell_type": "code",
   "execution_count": null,
   "metadata": {},
   "outputs": [],
   "source": []
  },
  {
   "cell_type": "code",
   "execution_count": null,
   "metadata": {},
   "outputs": [],
   "source": []
  }
 ],
 "metadata": {
  "accelerator": "GPU",
  "colab": {
   "collapsed_sections": [],
   "name": "assignment12.ipynb",
   "provenance": [],
   "version": "0.3.2"
  },
  "kernelspec": {
   "display_name": "Python 3",
   "language": "python",
   "name": "python3"
  },
  "language_info": {
   "codemirror_mode": {
    "name": "ipython",
    "version": 3
   },
   "file_extension": ".py",
   "mimetype": "text/x-python",
   "name": "python",
   "nbconvert_exporter": "python",
   "pygments_lexer": "ipython3",
   "version": "3.6.5"
  }
 },
 "nbformat": 4,
 "nbformat_minor": 2
}
